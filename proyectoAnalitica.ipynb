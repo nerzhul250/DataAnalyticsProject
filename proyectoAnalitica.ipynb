{
 "cells": [
  {
   "cell_type": "markdown",
   "metadata": {},
   "source": [
    "# Analitica de datos"
   ]
  },
  {
   "cell_type": "markdown",
   "metadata": {},
   "source": [
    "## Proyecto 2020"
   ]
  },
  {
   "cell_type": "markdown",
   "metadata": {},
   "source": [
    "### Daniel Galvis Torres y Sebastian Arango Vergara"
   ]
  },
  {
   "cell_type": "markdown",
   "metadata": {},
   "source": [
    "Primero se importan las librerias"
   ]
  },
  {
   "cell_type": "code",
   "execution_count": 17,
   "metadata": {},
   "outputs": [],
   "source": [
    "import numpy as np #operaciones matriciales y con vectores\n",
    "import pandas as pd #tratamiento de datos\n",
    "import matplotlib.pyplot as plt #gráficos\n",
    "import seaborn as sns\n",
    "import math\n",
    "\n",
    "from sklearn import preprocessing\n",
    "from sklearn.model_selection import train_test_split #metodo de particionamiento de datasets para evaluación\n",
    "from sklearn.model_selection import cross_val_score #protocolo de evaluaciónw\n",
    "from sklearn.neighbors import KNeighborsClassifier\n",
    "from sklearn import metrics\n",
    "from sklearn.naive_bayes import GaussianNB\n",
    "\n",
    "from sklearn.decomposition import PCA\n",
    "from sklearn.preprocessing import StandardScaler"
   ]
  },
  {
   "cell_type": "markdown",
   "metadata": {},
   "source": [
    "Se cargan los datos"
   ]
  },
  {
   "cell_type": "code",
   "execution_count": 4,
   "metadata": {},
   "outputs": [
    {
     "data": {
      "text/html": [
       "<div>\n",
       "<style scoped>\n",
       "    .dataframe tbody tr th:only-of-type {\n",
       "        vertical-align: middle;\n",
       "    }\n",
       "\n",
       "    .dataframe tbody tr th {\n",
       "        vertical-align: top;\n",
       "    }\n",
       "\n",
       "    .dataframe thead th {\n",
       "        text-align: right;\n",
       "    }\n",
       "</style>\n",
       "<table border=\"1\" class=\"dataframe\">\n",
       "  <thead>\n",
       "    <tr style=\"text-align: right;\">\n",
       "      <th></th>\n",
       "      <th>ESTADO</th>\n",
       "      <th>INGRESOS</th>\n",
       "      <th>CASA</th>\n",
       "      <th>PRECIO_DISPOSITIVO</th>\n",
       "      <th>MESES</th>\n",
       "      <th>DURACION</th>\n",
       "      <th>SOBRECARGO</th>\n",
       "      <th>SALDO_RESTANTE</th>\n",
       "      <th>SATISFACCION</th>\n",
       "    </tr>\n",
       "  </thead>\n",
       "  <tbody>\n",
       "    <tr>\n",
       "      <th>0</th>\n",
       "      <td>VINCULADO</td>\n",
       "      <td>4074840</td>\n",
       "      <td>8.830000e+08</td>\n",
       "      <td>1444153.0</td>\n",
       "      <td>26</td>\n",
       "      <td>2.3</td>\n",
       "      <td>11.167542</td>\n",
       "      <td>20.3</td>\n",
       "      <td>1.762872</td>\n",
       "    </tr>\n",
       "    <tr>\n",
       "      <th>1</th>\n",
       "      <td>VINCULADO</td>\n",
       "      <td>8574088</td>\n",
       "      <td>1.745000e+09</td>\n",
       "      <td>2157661.0</td>\n",
       "      <td>23</td>\n",
       "      <td>3.7</td>\n",
       "      <td>0.000000</td>\n",
       "      <td>53.5</td>\n",
       "      <td>3.361266</td>\n",
       "    </tr>\n",
       "    <tr>\n",
       "      <th>2</th>\n",
       "      <td>RETIRADO</td>\n",
       "      <td>795993</td>\n",
       "      <td>9.500000e+07</td>\n",
       "      <td>452809.0</td>\n",
       "      <td>38</td>\n",
       "      <td>16.8</td>\n",
       "      <td>350.610224</td>\n",
       "      <td>13.9</td>\n",
       "      <td>8.359438</td>\n",
       "    </tr>\n",
       "    <tr>\n",
       "      <th>3</th>\n",
       "      <td>RETIRADO</td>\n",
       "      <td>8115015</td>\n",
       "      <td>8.300000e+07</td>\n",
       "      <td>2617184.0</td>\n",
       "      <td>37</td>\n",
       "      <td>17.6</td>\n",
       "      <td>230.913888</td>\n",
       "      <td>45.7</td>\n",
       "      <td>8.964017</td>\n",
       "    </tr>\n",
       "    <tr>\n",
       "      <th>4</th>\n",
       "      <td>RETIRADO</td>\n",
       "      <td>8187499</td>\n",
       "      <td>6.770000e+08</td>\n",
       "      <td>666069.0</td>\n",
       "      <td>19</td>\n",
       "      <td>0.0</td>\n",
       "      <td>131.541983</td>\n",
       "      <td>67.2</td>\n",
       "      <td>8.808206</td>\n",
       "    </tr>\n",
       "  </tbody>\n",
       "</table>\n",
       "</div>"
      ],
      "text/plain": [
       "      ESTADO  INGRESOS          CASA  PRECIO_DISPOSITIVO  MESES  DURACION  \\\n",
       "0  VINCULADO   4074840  8.830000e+08           1444153.0     26       2.3   \n",
       "1  VINCULADO   8574088  1.745000e+09           2157661.0     23       3.7   \n",
       "2   RETIRADO    795993  9.500000e+07            452809.0     38      16.8   \n",
       "3   RETIRADO   8115015  8.300000e+07           2617184.0     37      17.6   \n",
       "4   RETIRADO   8187499  6.770000e+08            666069.0     19       0.0   \n",
       "\n",
       "   SOBRECARGO  SALDO_RESTANTE  SATISFACCION  \n",
       "0   11.167542            20.3      1.762872  \n",
       "1    0.000000            53.5      3.361266  \n",
       "2  350.610224            13.9      8.359438  \n",
       "3  230.913888            45.7      8.964017  \n",
       "4  131.541983            67.2      8.808206  "
      ]
     },
     "execution_count": 4,
     "metadata": {},
     "output_type": "execute_result"
    }
   ],
   "source": [
    "df = pd.read_csv('PF-02-DatosTelco.csv',sep=',')\n",
    "df.head()"
   ]
  },
  {
   "cell_type": "markdown",
   "metadata": {},
   "source": [
    "# 1. Limpieza de datos"
   ]
  },
  {
   "cell_type": "markdown",
   "metadata": {},
   "source": [
    "## Identificacion de problemas"
   ]
  },
  {
   "cell_type": "markdown",
   "metadata": {},
   "source": [
    "### Vistazo general"
   ]
  },
  {
   "cell_type": "code",
   "execution_count": 5,
   "metadata": {
    "scrolled": true
   },
   "outputs": [
    {
     "data": {
      "text/html": [
       "<div>\n",
       "<style scoped>\n",
       "    .dataframe tbody tr th:only-of-type {\n",
       "        vertical-align: middle;\n",
       "    }\n",
       "\n",
       "    .dataframe tbody tr th {\n",
       "        vertical-align: top;\n",
       "    }\n",
       "\n",
       "    .dataframe thead th {\n",
       "        text-align: right;\n",
       "    }\n",
       "</style>\n",
       "<table border=\"1\" class=\"dataframe\">\n",
       "  <thead>\n",
       "    <tr style=\"text-align: right;\">\n",
       "      <th></th>\n",
       "      <th>count</th>\n",
       "      <th>unique</th>\n",
       "      <th>top</th>\n",
       "      <th>freq</th>\n",
       "      <th>mean</th>\n",
       "      <th>std</th>\n",
       "      <th>min</th>\n",
       "      <th>25%</th>\n",
       "      <th>50%</th>\n",
       "      <th>75%</th>\n",
       "      <th>max</th>\n",
       "    </tr>\n",
       "  </thead>\n",
       "  <tbody>\n",
       "    <tr>\n",
       "      <th>ESTADO</th>\n",
       "      <td>23162</td>\n",
       "      <td>2</td>\n",
       "      <td>RETIRADO</td>\n",
       "      <td>11665</td>\n",
       "      <td>NaN</td>\n",
       "      <td>NaN</td>\n",
       "      <td>NaN</td>\n",
       "      <td>NaN</td>\n",
       "      <td>NaN</td>\n",
       "      <td>NaN</td>\n",
       "      <td>NaN</td>\n",
       "    </tr>\n",
       "    <tr>\n",
       "      <th>INGRESOS</th>\n",
       "      <td>23162</td>\n",
       "      <td>NaN</td>\n",
       "      <td>NaN</td>\n",
       "      <td>NaN</td>\n",
       "      <td>4.81312e+06</td>\n",
       "      <td>2.73737e+06</td>\n",
       "      <td>150000</td>\n",
       "      <td>2.1563e+06</td>\n",
       "      <td>6.13755e+06</td>\n",
       "      <td>7.34718e+06</td>\n",
       "      <td>9.65e+06</td>\n",
       "    </tr>\n",
       "    <tr>\n",
       "      <th>CASA</th>\n",
       "      <td>23162</td>\n",
       "      <td>NaN</td>\n",
       "      <td>NaN</td>\n",
       "      <td>NaN</td>\n",
       "      <td>7.16144e+08</td>\n",
       "      <td>4.81155e+08</td>\n",
       "      <td>8e+07</td>\n",
       "      <td>3.57e+08</td>\n",
       "      <td>6.24e+08</td>\n",
       "      <td>9.0775e+08</td>\n",
       "      <td>2.18e+09</td>\n",
       "    </tr>\n",
       "    <tr>\n",
       "      <th>PRECIO_DISPOSITIVO</th>\n",
       "      <td>23162</td>\n",
       "      <td>NaN</td>\n",
       "      <td>NaN</td>\n",
       "      <td>NaN</td>\n",
       "      <td>1.31534e+06</td>\n",
       "      <td>748570</td>\n",
       "      <td>200000</td>\n",
       "      <td>657184</td>\n",
       "      <td>1.23746e+06</td>\n",
       "      <td>1.82958e+06</td>\n",
       "      <td>4.7e+06</td>\n",
       "    </tr>\n",
       "    <tr>\n",
       "      <th>MESES</th>\n",
       "      <td>23162</td>\n",
       "      <td>NaN</td>\n",
       "      <td>NaN</td>\n",
       "      <td>NaN</td>\n",
       "      <td>24.1971</td>\n",
       "      <td>14.264</td>\n",
       "      <td>0</td>\n",
       "      <td>14</td>\n",
       "      <td>24</td>\n",
       "      <td>34</td>\n",
       "      <td>79</td>\n",
       "    </tr>\n",
       "    <tr>\n",
       "      <th>DURACION</th>\n",
       "      <td>23162</td>\n",
       "      <td>NaN</td>\n",
       "      <td>NaN</td>\n",
       "      <td>NaN</td>\n",
       "      <td>9.60985</td>\n",
       "      <td>7.04001</td>\n",
       "      <td>0</td>\n",
       "      <td>2.1</td>\n",
       "      <td>14.6</td>\n",
       "      <td>16.1</td>\n",
       "      <td>20.1</td>\n",
       "    </tr>\n",
       "    <tr>\n",
       "      <th>SOBRECARGO</th>\n",
       "      <td>23162</td>\n",
       "      <td>NaN</td>\n",
       "      <td>NaN</td>\n",
       "      <td>NaN</td>\n",
       "      <td>110.056</td>\n",
       "      <td>100.772</td>\n",
       "      <td>0</td>\n",
       "      <td>12.5669</td>\n",
       "      <td>75.3836</td>\n",
       "      <td>201.55</td>\n",
       "      <td>411.168</td>\n",
       "    </tr>\n",
       "    <tr>\n",
       "      <th>SALDO_RESTANTE</th>\n",
       "      <td>23162</td>\n",
       "      <td>NaN</td>\n",
       "      <td>NaN</td>\n",
       "      <td>NaN</td>\n",
       "      <td>42.9919</td>\n",
       "      <td>30.2045</td>\n",
       "      <td>0</td>\n",
       "      <td>15.2</td>\n",
       "      <td>37.65</td>\n",
       "      <td>70</td>\n",
       "      <td>130.7</td>\n",
       "    </tr>\n",
       "    <tr>\n",
       "      <th>SATISFACCION</th>\n",
       "      <td>23162</td>\n",
       "      <td>NaN</td>\n",
       "      <td>NaN</td>\n",
       "      <td>NaN</td>\n",
       "      <td>5.48084</td>\n",
       "      <td>2.80994</td>\n",
       "      <td>0.61358</td>\n",
       "      <td>2.7055</td>\n",
       "      <td>4.06455</td>\n",
       "      <td>8.26824</td>\n",
       "      <td>9.64262</td>\n",
       "    </tr>\n",
       "  </tbody>\n",
       "</table>\n",
       "</div>"
      ],
      "text/plain": [
       "                    count unique       top   freq         mean          std  \\\n",
       "ESTADO              23162      2  RETIRADO  11665          NaN          NaN   \n",
       "INGRESOS            23162    NaN       NaN    NaN  4.81312e+06  2.73737e+06   \n",
       "CASA                23162    NaN       NaN    NaN  7.16144e+08  4.81155e+08   \n",
       "PRECIO_DISPOSITIVO  23162    NaN       NaN    NaN  1.31534e+06       748570   \n",
       "MESES               23162    NaN       NaN    NaN      24.1971       14.264   \n",
       "DURACION            23162    NaN       NaN    NaN      9.60985      7.04001   \n",
       "SOBRECARGO          23162    NaN       NaN    NaN      110.056      100.772   \n",
       "SALDO_RESTANTE      23162    NaN       NaN    NaN      42.9919      30.2045   \n",
       "SATISFACCION        23162    NaN       NaN    NaN      5.48084      2.80994   \n",
       "\n",
       "                        min         25%          50%          75%       max  \n",
       "ESTADO                  NaN         NaN          NaN          NaN       NaN  \n",
       "INGRESOS             150000  2.1563e+06  6.13755e+06  7.34718e+06  9.65e+06  \n",
       "CASA                  8e+07    3.57e+08     6.24e+08   9.0775e+08  2.18e+09  \n",
       "PRECIO_DISPOSITIVO   200000      657184  1.23746e+06  1.82958e+06   4.7e+06  \n",
       "MESES                     0          14           24           34        79  \n",
       "DURACION                  0         2.1         14.6         16.1      20.1  \n",
       "SOBRECARGO                0     12.5669      75.3836       201.55   411.168  \n",
       "SALDO_RESTANTE            0        15.2        37.65           70     130.7  \n",
       "SATISFACCION        0.61358      2.7055      4.06455      8.26824   9.64262  "
      ]
     },
     "execution_count": 5,
     "metadata": {},
     "output_type": "execute_result"
    }
   ],
   "source": [
    "df.describe(include='all').T"
   ]
  },
  {
   "cell_type": "code",
   "execution_count": 6,
   "metadata": {
    "scrolled": true
   },
   "outputs": [
    {
     "name": "stdout",
     "output_type": "stream",
     "text": [
      "<class 'pandas.core.frame.DataFrame'>\n",
      "RangeIndex: 23162 entries, 0 to 23161\n",
      "Data columns (total 9 columns):\n",
      "ESTADO                23162 non-null object\n",
      "INGRESOS              23162 non-null int64\n",
      "CASA                  23162 non-null float64\n",
      "PRECIO_DISPOSITIVO    23162 non-null float64\n",
      "MESES                 23162 non-null int64\n",
      "DURACION              23162 non-null float64\n",
      "SOBRECARGO            23162 non-null float64\n",
      "SALDO_RESTANTE        23162 non-null float64\n",
      "SATISFACCION          23162 non-null float64\n",
      "dtypes: float64(6), int64(2), object(1)\n",
      "memory usage: 1.6+ MB\n"
     ]
    }
   ],
   "source": [
    "df.info()"
   ]
  },
  {
   "cell_type": "markdown",
   "metadata": {},
   "source": [
    "Podemos notar que no hay ningún valor nulo, por lo que no debemos preocuparnos de ese aspecto.\n",
    "De igual forma, la variable categórica (Estado) tiene dos únicos valores, lo que también es normal.\n",
    "Además, ningún valor númerico es menor a 0, por lo que desde este punto de vista no hay ninguna anomalía"
   ]
  },
  {
   "cell_type": "markdown",
   "metadata": {},
   "source": [
    "### Se pasará a ver la distribución de los datos en las variables numéricas con boxplots:"
   ]
  },
  {
   "cell_type": "code",
   "execution_count": 7,
   "metadata": {},
   "outputs": [
    {
     "data": {
      "image/png": "[encoded data removed]",
      "text/plain": [
       "<Figure size 1440x1440 with 8 Axes>"
      ]
     },
     "metadata": {
      "needs_background": "light"
     },
     "output_type": "display_data"
    }
   ],
   "source": [
    "fig = plt.figure(figsize=(20,20))\n",
    "i=1\n",
    "\n",
    "for var_num in df.columns[1:]:\n",
    "    ax = fig.add_subplot(4, 2, i) #Defino una tabla de 2 filas por 1 columnas, agrego el i-ésimo plot\n",
    "    sns.boxplot(y=var_num, data=df)\n",
    "    plt.title(var_num)\n",
    "    i+=1"
   ]
  },
  {
   "cell_type": "code",
   "execution_count": null,
   "metadata": {},
   "outputs": [],
   "source": []
  },
  {
   "cell_type": "code",
   "execution_count": null,
   "metadata": {},
   "outputs": [],
   "source": []
  },
  {
   "cell_type": "markdown",
   "metadata": {},
   "source": [
    "## Parte 2"
   ]
  },
  {
   "cell_type": "markdown",
   "metadata": {},
   "source": [
    "Primero, se crea otro DataFrame, que será una copia del DataFrame original pero solo con al información de los clientes retirados. Una vez realizada esta copia, se elimina la columna Estado"
   ]
  },
  {
   "cell_type": "code",
   "execution_count": 23,
   "metadata": {},
   "outputs": [
    {
     "data": {
      "text/html": [
       "<div>\n",
       "<style scoped>\n",
       "    .dataframe tbody tr th:only-of-type {\n",
       "        vertical-align: middle;\n",
       "    }\n",
       "\n",
       "    .dataframe tbody tr th {\n",
       "        vertical-align: top;\n",
       "    }\n",
       "\n",
       "    .dataframe thead th {\n",
       "        text-align: right;\n",
       "    }\n",
       "</style>\n",
       "<table border=\"1\" class=\"dataframe\">\n",
       "  <thead>\n",
       "    <tr style=\"text-align: right;\">\n",
       "      <th></th>\n",
       "      <th>INGRESOS</th>\n",
       "      <th>CASA</th>\n",
       "      <th>PRECIO_DISPOSITIVO</th>\n",
       "      <th>MESES</th>\n",
       "      <th>DURACION</th>\n",
       "      <th>SOBRECARGO</th>\n",
       "      <th>SALDO_RESTANTE</th>\n",
       "      <th>SATISFACCION</th>\n",
       "    </tr>\n",
       "  </thead>\n",
       "  <tbody>\n",
       "    <tr>\n",
       "      <th>2</th>\n",
       "      <td>795993</td>\n",
       "      <td>95000000.0</td>\n",
       "      <td>452809.0</td>\n",
       "      <td>38</td>\n",
       "      <td>16.8</td>\n",
       "      <td>350.610224</td>\n",
       "      <td>13.9</td>\n",
       "      <td>8.359438</td>\n",
       "    </tr>\n",
       "    <tr>\n",
       "      <th>3</th>\n",
       "      <td>8115015</td>\n",
       "      <td>83000000.0</td>\n",
       "      <td>2617184.0</td>\n",
       "      <td>37</td>\n",
       "      <td>17.6</td>\n",
       "      <td>230.913888</td>\n",
       "      <td>45.7</td>\n",
       "      <td>8.964017</td>\n",
       "    </tr>\n",
       "    <tr>\n",
       "      <th>4</th>\n",
       "      <td>8187499</td>\n",
       "      <td>677000000.0</td>\n",
       "      <td>666069.0</td>\n",
       "      <td>19</td>\n",
       "      <td>0.0</td>\n",
       "      <td>131.541983</td>\n",
       "      <td>67.2</td>\n",
       "      <td>8.808206</td>\n",
       "    </tr>\n",
       "    <tr>\n",
       "      <th>6</th>\n",
       "      <td>7256758</td>\n",
       "      <td>712000000.0</td>\n",
       "      <td>3493707.0</td>\n",
       "      <td>20</td>\n",
       "      <td>14.8</td>\n",
       "      <td>217.322554</td>\n",
       "      <td>69.5</td>\n",
       "      <td>8.285137</td>\n",
       "    </tr>\n",
       "    <tr>\n",
       "      <th>7</th>\n",
       "      <td>3262245</td>\n",
       "      <td>684000000.0</td>\n",
       "      <td>985708.0</td>\n",
       "      <td>32</td>\n",
       "      <td>1.3</td>\n",
       "      <td>275.595131</td>\n",
       "      <td>19.0</td>\n",
       "      <td>8.040629</td>\n",
       "    </tr>\n",
       "    <tr>\n",
       "      <th>...</th>\n",
       "      <td>...</td>\n",
       "      <td>...</td>\n",
       "      <td>...</td>\n",
       "      <td>...</td>\n",
       "      <td>...</td>\n",
       "      <td>...</td>\n",
       "      <td>...</td>\n",
       "      <td>...</td>\n",
       "    </tr>\n",
       "    <tr>\n",
       "      <th>23149</th>\n",
       "      <td>6891205</td>\n",
       "      <td>462000000.0</td>\n",
       "      <td>376963.0</td>\n",
       "      <td>42</td>\n",
       "      <td>17.4</td>\n",
       "      <td>266.344600</td>\n",
       "      <td>68.4</td>\n",
       "      <td>8.039179</td>\n",
       "    </tr>\n",
       "    <tr>\n",
       "      <th>23153</th>\n",
       "      <td>534323</td>\n",
       "      <td>127000000.0</td>\n",
       "      <td>3144722.0</td>\n",
       "      <td>2</td>\n",
       "      <td>15.1</td>\n",
       "      <td>0.000000</td>\n",
       "      <td>16.8</td>\n",
       "      <td>3.331059</td>\n",
       "    </tr>\n",
       "    <tr>\n",
       "      <th>23155</th>\n",
       "      <td>2879014</td>\n",
       "      <td>329000000.0</td>\n",
       "      <td>1518581.0</td>\n",
       "      <td>22</td>\n",
       "      <td>2.1</td>\n",
       "      <td>176.444400</td>\n",
       "      <td>10.9</td>\n",
       "      <td>7.973555</td>\n",
       "    </tr>\n",
       "    <tr>\n",
       "      <th>23157</th>\n",
       "      <td>473169</td>\n",
       "      <td>99000000.0</td>\n",
       "      <td>1128088.0</td>\n",
       "      <td>28</td>\n",
       "      <td>14.9</td>\n",
       "      <td>153.900600</td>\n",
       "      <td>18.6</td>\n",
       "      <td>8.359296</td>\n",
       "    </tr>\n",
       "    <tr>\n",
       "      <th>23159</th>\n",
       "      <td>7523054</td>\n",
       "      <td>446000000.0</td>\n",
       "      <td>296138.0</td>\n",
       "      <td>6</td>\n",
       "      <td>17.8</td>\n",
       "      <td>290.730900</td>\n",
       "      <td>58.9</td>\n",
       "      <td>8.510907</td>\n",
       "    </tr>\n",
       "  </tbody>\n",
       "</table>\n",
       "<p>11665 rows × 8 columns</p>\n",
       "</div>"
      ],
      "text/plain": [
       "       INGRESOS         CASA  PRECIO_DISPOSITIVO  MESES  DURACION  SOBRECARGO  \\\n",
       "2        795993   95000000.0            452809.0     38      16.8  350.610224   \n",
       "3       8115015   83000000.0           2617184.0     37      17.6  230.913888   \n",
       "4       8187499  677000000.0            666069.0     19       0.0  131.541983   \n",
       "6       7256758  712000000.0           3493707.0     20      14.8  217.322554   \n",
       "7       3262245  684000000.0            985708.0     32       1.3  275.595131   \n",
       "...         ...          ...                 ...    ...       ...         ...   \n",
       "23149   6891205  462000000.0            376963.0     42      17.4  266.344600   \n",
       "23153    534323  127000000.0           3144722.0      2      15.1    0.000000   \n",
       "23155   2879014  329000000.0           1518581.0     22       2.1  176.444400   \n",
       "23157    473169   99000000.0           1128088.0     28      14.9  153.900600   \n",
       "23159   7523054  446000000.0            296138.0      6      17.8  290.730900   \n",
       "\n",
       "       SALDO_RESTANTE  SATISFACCION  \n",
       "2                13.9      8.359438  \n",
       "3                45.7      8.964017  \n",
       "4                67.2      8.808206  \n",
       "6                69.5      8.285137  \n",
       "7                19.0      8.040629  \n",
       "...               ...           ...  \n",
       "23149            68.4      8.039179  \n",
       "23153            16.8      3.331059  \n",
       "23155            10.9      7.973555  \n",
       "23157            18.6      8.359296  \n",
       "23159            58.9      8.510907  \n",
       "\n",
       "[11665 rows x 8 columns]"
      ]
     },
     "execution_count": 23,
     "metadata": {},
     "output_type": "execute_result"
    }
   ],
   "source": [
    "df_ret = df[df['ESTADO'] == 'RETIRADO']\n",
    "df_ret = df_ret.drop('ESTADO', axis=1)\n",
    "df_ret"
   ]
  },
  {
   "cell_type": "markdown",
   "metadata": {},
   "source": [
    "Veamos cómo se ven los datos extraídos, sin normalizar ni separar en cluster, para hacernos una mejor idea sobre las decisiones a tomar. Para eso, primero se extraerán los componentes principales."
   ]
  },
  {
   "cell_type": "code",
   "execution_count": 24,
   "metadata": {},
   "outputs": [],
   "source": [
    "pca = PCA()\n",
    "df_proyectado = pca.fit_transform(df_ret)"
   ]
  },
  {
   "cell_type": "markdown",
   "metadata": {},
   "source": [
    "Veamos la varianza explicada por cada componente resultante:"
   ]
  },
  {
   "cell_type": "code",
   "execution_count": 28,
   "metadata": {},
   "outputs": [
    {
     "data": {
      "text/plain": [
       "array([9.99969948e-01, 2.76576010e-05, 2.39406272e-06, 2.59897512e-14,\n",
       "       1.16411227e-15, 8.74940956e-16, 1.79901949e-16, 6.64915940e-18])"
      ]
     },
     "execution_count": 28,
     "metadata": {},
     "output_type": "execute_result"
    }
   ],
   "source": [
    "var_exp=pca.explained_variance_ratio_ # varianza explicada por cada PC\n",
    "cum_var_exp = np.cumsum(var_exp) # varianza acumulada por los primeros n PCs\n",
    "var_exp"
   ]
  },
  {
   "cell_type": "code",
   "execution_count": 29,
   "metadata": {},
   "outputs": [
    {
     "data": {
      "image/png": "[encoded data removed]",
      "text/plain": [
       "<Figure size 1080x504 with 1 Axes>"
      ]
     },
     "metadata": {
      "needs_background": "light"
     },
     "output_type": "display_data"
    }
   ],
   "source": [
    "plt.figure(figsize=(15, 7))\n",
    "plt.bar(range(len(var_exp)), var_exp, alpha=0.3333, align='center', label='Varianza explicada por cada PC', color = 'g')\n",
    "plt.step(range(len(cum_var_exp)), cum_var_exp, where='mid',label='Varianza explicada acumulada')\n",
    "plt.ylabel('Porcentaje de varianza explicada')\n",
    "plt.xlabel('Componentes principales')\n",
    "plt.legend(loc='best')\n",
    "plt.show()"
   ]
  },
  {
   "cell_type": "markdown",
   "metadata": {},
   "source": [
    "El primer componente explica prácticamente el 100% de la varianza, lo que es un problema y definitivamente es necesario normalizar:"
   ]
  },
  {
   "cell_type": "code",
   "execution_count": 31,
   "metadata": {},
   "outputs": [],
   "source": [
    "scaler = StandardScaler(with_mean=True, with_std=True)\n",
    "df_ret_std = scaler.fit_transform(df_ret)"
   ]
  },
  {
   "cell_type": "code",
   "execution_count": 34,
   "metadata": {},
   "outputs": [],
   "source": [
    "pca = PCA()\n",
    "df_ret_proyectado = pca.fit_transform(df_ret_std)"
   ]
  },
  {
   "cell_type": "code",
   "execution_count": 35,
   "metadata": {},
   "outputs": [
    {
     "data": {
      "text/plain": [
       "array([0.26062204, 0.21027819, 0.12915615, 0.12479013, 0.12307699,\n",
       "       0.09615655, 0.0396532 , 0.01626674])"
      ]
     },
     "execution_count": 35,
     "metadata": {},
     "output_type": "execute_result"
    }
   ],
   "source": [
    "pca.explained_variance_ratio_"
   ]
  },
  {
   "cell_type": "code",
   "execution_count": 36,
   "metadata": {},
   "outputs": [
    {
     "data": {
      "text/plain": [
       "array([0.26062204, 0.21027819, 0.12915615, 0.12479013, 0.12307699,\n",
       "       0.09615655, 0.0396532 , 0.01626674])"
      ]
     },
     "execution_count": 36,
     "metadata": {},
     "output_type": "execute_result"
    }
   ],
   "source": [
    "var_exp=pca.explained_variance_ratio_ # varianza explicada por cada PC\n",
    "cum_var_exp = np.cumsum(var_exp) # varianza acumulada por los primeros n PCs\n",
    "var_exp"
   ]
  },
  {
   "cell_type": "code",
   "execution_count": 39,
   "metadata": {},
   "outputs": [
    {
     "data": {
      "text/plain": [
       "array([[ 0.64830537,  0.41901607, -0.01668265, -0.01376439, -0.08640998,\n",
       "         0.03647892,  0.6266742 ,  0.04625974],\n",
       "       [ 0.04112301,  0.01215791, -0.02410451, -0.02797991, -0.01774392,\n",
       "        -0.70590531,  0.03873991, -0.70475475],\n",
       "       [-0.02930758,  0.00392506,  0.5366663 ,  0.22767122,  0.79562152,\n",
       "        -0.01556573,  0.15941793, -0.02471423]])"
      ]
     },
     "execution_count": 39,
     "metadata": {},
     "output_type": "execute_result"
    }
   ],
   "source": [
    "pca.components_[0:3]"
   ]
  },
  {
   "cell_type": "markdown",
   "metadata": {},
   "source": [
    "El primer componente principal está determinado principalmente por la primera, segunda y septima columna, que corresponden a las variables \"Ingresos\", \"Casa\" y \"Saldo restante\"."
   ]
  },
  {
   "cell_type": "markdown",
   "metadata": {},
   "source": [
    "El segundo componente principal está determinado principalmente por la sexta y octava columna, que corresponden a las variables \"Sobrecargo\" y \"Satisfacción\"."
   ]
  },
  {
   "cell_type": "markdown",
   "metadata": {},
   "source": [
    "El primer componente principal está determinado principalmente por la tercera y quinta columna, que corresponden a las variables \"Precio dispositivo\" y \"Duración\"."
   ]
  },
  {
   "cell_type": "code",
   "execution_count": 37,
   "metadata": {},
   "outputs": [
    {
     "data": {
      "image/png": "[encoded data removed]",
      "text/plain": [
       "<Figure size 1080x504 with 1 Axes>"
      ]
     },
     "metadata": {
      "needs_background": "light"
     },
     "output_type": "display_data"
    }
   ],
   "source": [
    "plt.figure(figsize=(15, 7))\n",
    "plt.bar(range(len(var_exp)), var_exp, alpha=0.3333, align='center', label='Varianza explicada por cada PC', color = 'g')\n",
    "plt.step(range(len(cum_var_exp)), cum_var_exp, where='mid',label='Varianza explicada acumulada')\n",
    "plt.ylabel('Porcentaje de varianza explicada')\n",
    "plt.xlabel('Componentes principales')\n",
    "plt.legend(loc='best')\n",
    "plt.show()"
   ]
  },
  {
   "cell_type": "markdown",
   "metadata": {},
   "source": [
    "Vemos que con los datos estandarizados los componentes son mucho más razonables. Entre los dos primeros componentes se explica casi el 50% de la varianza, mientras que si le agregamos el tercero se llega al 60%"
   ]
  },
  {
   "cell_type": "code",
   "execution_count": null,
   "metadata": {},
   "outputs": [],
   "source": []
  }
 ],
 "metadata": {
  "kernelspec": {
   "display_name": "Python 3",
   "language": "python",
   "name": "python3"
  },
  "language_info": {
   "codemirror_mode": {
    "name": "ipython",
    "version": 3
   },
   "file_extension": ".py",
   "mimetype": "text/x-python",
   "name": "python",
   "nbconvert_exporter": "python",
   "pygments_lexer": "ipython3",
   "version": "3.7.6"
  }
 },
 "nbformat": 4,
 "nbformat_minor": 2
}
