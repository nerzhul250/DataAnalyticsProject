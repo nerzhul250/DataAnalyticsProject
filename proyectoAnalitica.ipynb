{
 "cells": [
  {
   "cell_type": "markdown",
   "metadata": {},
   "source": [
    "# Analitica de datos"
   ]
  },
  {
   "cell_type": "markdown",
   "metadata": {},
   "source": [
    "## Proyecto 2020"
   ]
  },
  {
   "cell_type": "markdown",
   "metadata": {},
   "source": [
    "### Daniel Galvis Torres y Sebastian Arango Vergara"
   ]
  },
  {
   "cell_type": "markdown",
   "metadata": {},
   "source": [
    "Primero se importan las librerias"
   ]
  },
  {
   "cell_type": "code",
   "execution_count": 1,
   "metadata": {},
   "outputs": [],
   "source": [
    "import numpy as np #operaciones matriciales y con vectores\n",
    "import pandas as pd #tratamiento de datos\n",
    "import matplotlib.pyplot as plt #gráficos\n",
    "import seaborn as sns\n",
    "import math\n",
    "\n",
    "from sklearn.model_selection import train_test_split #metodo de particionamiento de datasets para evaluación\n",
    "from sklearn.model_selection import cross_val_score #protocolo de evaluaciónw\n",
    "from sklearn.neighbors import KNeighborsClassifier\n",
    "from sklearn import metrics, tree,preprocessing\n",
    "from sklearn.naive_bayes import GaussianNB\n",
    "from sklearn.ensemble import BaggingClassifier\n",
    "from sklearn.decomposition import PCA\n",
    "from sklearn.preprocessing import StandardScaler"
   ]
  },
  {
   "cell_type": "markdown",
   "metadata": {},
   "source": [
    "Se cargan los datos"
   ]
  },
  {
   "cell_type": "code",
   "execution_count": 2,
   "metadata": {},
   "outputs": [
    {
     "data": {
      "text/html": [
       "<div>\n",
       "<style scoped>\n",
       "    .dataframe tbody tr th:only-of-type {\n",
       "        vertical-align: middle;\n",
       "    }\n",
       "\n",
       "    .dataframe tbody tr th {\n",
       "        vertical-align: top;\n",
       "    }\n",
       "\n",
       "    .dataframe thead th {\n",
       "        text-align: right;\n",
       "    }\n",
       "</style>\n",
       "<table border=\"1\" class=\"dataframe\">\n",
       "  <thead>\n",
       "    <tr style=\"text-align: right;\">\n",
       "      <th></th>\n",
       "      <th>ESTADO</th>\n",
       "      <th>INGRESOS</th>\n",
       "      <th>CASA</th>\n",
       "      <th>PRECIO_DISPOSITIVO</th>\n",
       "      <th>MESES</th>\n",
       "      <th>DURACION</th>\n",
       "      <th>SOBRECARGO</th>\n",
       "      <th>SALDO_RESTANTE</th>\n",
       "      <th>SATISFACCION</th>\n",
       "    </tr>\n",
       "  </thead>\n",
       "  <tbody>\n",
       "    <tr>\n",
       "      <th>0</th>\n",
       "      <td>VINCULADO</td>\n",
       "      <td>4074840</td>\n",
       "      <td>8.830000e+08</td>\n",
       "      <td>1444153.0</td>\n",
       "      <td>26</td>\n",
       "      <td>2.3</td>\n",
       "      <td>11.167542</td>\n",
       "      <td>20.3</td>\n",
       "      <td>1.762872</td>\n",
       "    </tr>\n",
       "    <tr>\n",
       "      <th>1</th>\n",
       "      <td>VINCULADO</td>\n",
       "      <td>8574088</td>\n",
       "      <td>1.745000e+09</td>\n",
       "      <td>2157661.0</td>\n",
       "      <td>23</td>\n",
       "      <td>3.7</td>\n",
       "      <td>0.000000</td>\n",
       "      <td>53.5</td>\n",
       "      <td>3.361266</td>\n",
       "    </tr>\n",
       "    <tr>\n",
       "      <th>2</th>\n",
       "      <td>RETIRADO</td>\n",
       "      <td>795993</td>\n",
       "      <td>9.500000e+07</td>\n",
       "      <td>452809.0</td>\n",
       "      <td>38</td>\n",
       "      <td>16.8</td>\n",
       "      <td>350.610224</td>\n",
       "      <td>13.9</td>\n",
       "      <td>8.359438</td>\n",
       "    </tr>\n",
       "    <tr>\n",
       "      <th>3</th>\n",
       "      <td>RETIRADO</td>\n",
       "      <td>8115015</td>\n",
       "      <td>8.300000e+07</td>\n",
       "      <td>2617184.0</td>\n",
       "      <td>37</td>\n",
       "      <td>17.6</td>\n",
       "      <td>230.913888</td>\n",
       "      <td>45.7</td>\n",
       "      <td>8.964017</td>\n",
       "    </tr>\n",
       "    <tr>\n",
       "      <th>4</th>\n",
       "      <td>RETIRADO</td>\n",
       "      <td>8187499</td>\n",
       "      <td>6.770000e+08</td>\n",
       "      <td>666069.0</td>\n",
       "      <td>19</td>\n",
       "      <td>0.0</td>\n",
       "      <td>131.541983</td>\n",
       "      <td>67.2</td>\n",
       "      <td>8.808206</td>\n",
       "    </tr>\n",
       "  </tbody>\n",
       "</table>\n",
       "</div>"
      ],
      "text/plain": [
       "      ESTADO  INGRESOS          CASA  PRECIO_DISPOSITIVO  MESES  DURACION  \\\n",
       "0  VINCULADO   4074840  8.830000e+08           1444153.0     26       2.3   \n",
       "1  VINCULADO   8574088  1.745000e+09           2157661.0     23       3.7   \n",
       "2   RETIRADO    795993  9.500000e+07            452809.0     38      16.8   \n",
       "3   RETIRADO   8115015  8.300000e+07           2617184.0     37      17.6   \n",
       "4   RETIRADO   8187499  6.770000e+08            666069.0     19       0.0   \n",
       "\n",
       "   SOBRECARGO  SALDO_RESTANTE  SATISFACCION  \n",
       "0   11.167542            20.3      1.762872  \n",
       "1    0.000000            53.5      3.361266  \n",
       "2  350.610224            13.9      8.359438  \n",
       "3  230.913888            45.7      8.964017  \n",
       "4  131.541983            67.2      8.808206  "
      ]
     },
     "execution_count": 2,
     "metadata": {},
     "output_type": "execute_result"
    }
   ],
   "source": [
    "df = pd.read_csv('PF-02-DatosTelco.csv',sep=',')\n",
    "df.head()"
   ]
  },
  {
   "cell_type": "markdown",
   "metadata": {},
   "source": [
    "## Parte 1"
   ]
  },
  {
   "cell_type": "markdown",
   "metadata": {},
   "source": [
    "# 1. Limpieza de datos"
   ]
  },
  {
   "cell_type": "markdown",
   "metadata": {},
   "source": [
    "## Identificacion de problemas"
   ]
  },
  {
   "cell_type": "markdown",
   "metadata": {},
   "source": [
    "### Vistazo general"
   ]
  },
  {
   "cell_type": "code",
   "execution_count": 3,
   "metadata": {
    "scrolled": true
   },
   "outputs": [
    {
     "data": {
      "text/html": [
       "<div>\n",
       "<style scoped>\n",
       "    .dataframe tbody tr th:only-of-type {\n",
       "        vertical-align: middle;\n",
       "    }\n",
       "\n",
       "    .dataframe tbody tr th {\n",
       "        vertical-align: top;\n",
       "    }\n",
       "\n",
       "    .dataframe thead th {\n",
       "        text-align: right;\n",
       "    }\n",
       "</style>\n",
       "<table border=\"1\" class=\"dataframe\">\n",
       "  <thead>\n",
       "    <tr style=\"text-align: right;\">\n",
       "      <th></th>\n",
       "      <th>count</th>\n",
       "      <th>unique</th>\n",
       "      <th>top</th>\n",
       "      <th>freq</th>\n",
       "      <th>mean</th>\n",
       "      <th>std</th>\n",
       "      <th>min</th>\n",
       "      <th>25%</th>\n",
       "      <th>50%</th>\n",
       "      <th>75%</th>\n",
       "      <th>max</th>\n",
       "    </tr>\n",
       "  </thead>\n",
       "  <tbody>\n",
       "    <tr>\n",
       "      <th>ESTADO</th>\n",
       "      <td>23162</td>\n",
       "      <td>2</td>\n",
       "      <td>RETIRADO</td>\n",
       "      <td>11665</td>\n",
       "      <td>NaN</td>\n",
       "      <td>NaN</td>\n",
       "      <td>NaN</td>\n",
       "      <td>NaN</td>\n",
       "      <td>NaN</td>\n",
       "      <td>NaN</td>\n",
       "      <td>NaN</td>\n",
       "    </tr>\n",
       "    <tr>\n",
       "      <th>INGRESOS</th>\n",
       "      <td>23162</td>\n",
       "      <td>NaN</td>\n",
       "      <td>NaN</td>\n",
       "      <td>NaN</td>\n",
       "      <td>4.81312e+06</td>\n",
       "      <td>2.73737e+06</td>\n",
       "      <td>150000</td>\n",
       "      <td>2.1563e+06</td>\n",
       "      <td>6.13755e+06</td>\n",
       "      <td>7.34718e+06</td>\n",
       "      <td>9.65e+06</td>\n",
       "    </tr>\n",
       "    <tr>\n",
       "      <th>CASA</th>\n",
       "      <td>23162</td>\n",
       "      <td>NaN</td>\n",
       "      <td>NaN</td>\n",
       "      <td>NaN</td>\n",
       "      <td>7.16144e+08</td>\n",
       "      <td>4.81155e+08</td>\n",
       "      <td>8e+07</td>\n",
       "      <td>3.57e+08</td>\n",
       "      <td>6.24e+08</td>\n",
       "      <td>9.0775e+08</td>\n",
       "      <td>2.18e+09</td>\n",
       "    </tr>\n",
       "    <tr>\n",
       "      <th>PRECIO_DISPOSITIVO</th>\n",
       "      <td>23162</td>\n",
       "      <td>NaN</td>\n",
       "      <td>NaN</td>\n",
       "      <td>NaN</td>\n",
       "      <td>1.31534e+06</td>\n",
       "      <td>748570</td>\n",
       "      <td>200000</td>\n",
       "      <td>657184</td>\n",
       "      <td>1.23746e+06</td>\n",
       "      <td>1.82958e+06</td>\n",
       "      <td>4.7e+06</td>\n",
       "    </tr>\n",
       "    <tr>\n",
       "      <th>MESES</th>\n",
       "      <td>23162</td>\n",
       "      <td>NaN</td>\n",
       "      <td>NaN</td>\n",
       "      <td>NaN</td>\n",
       "      <td>24.1971</td>\n",
       "      <td>14.264</td>\n",
       "      <td>0</td>\n",
       "      <td>14</td>\n",
       "      <td>24</td>\n",
       "      <td>34</td>\n",
       "      <td>79</td>\n",
       "    </tr>\n",
       "    <tr>\n",
       "      <th>DURACION</th>\n",
       "      <td>23162</td>\n",
       "      <td>NaN</td>\n",
       "      <td>NaN</td>\n",
       "      <td>NaN</td>\n",
       "      <td>9.60985</td>\n",
       "      <td>7.04001</td>\n",
       "      <td>0</td>\n",
       "      <td>2.1</td>\n",
       "      <td>14.6</td>\n",
       "      <td>16.1</td>\n",
       "      <td>20.1</td>\n",
       "    </tr>\n",
       "    <tr>\n",
       "      <th>SOBRECARGO</th>\n",
       "      <td>23162</td>\n",
       "      <td>NaN</td>\n",
       "      <td>NaN</td>\n",
       "      <td>NaN</td>\n",
       "      <td>110.056</td>\n",
       "      <td>100.772</td>\n",
       "      <td>0</td>\n",
       "      <td>12.5669</td>\n",
       "      <td>75.3836</td>\n",
       "      <td>201.55</td>\n",
       "      <td>411.168</td>\n",
       "    </tr>\n",
       "    <tr>\n",
       "      <th>SALDO_RESTANTE</th>\n",
       "      <td>23162</td>\n",
       "      <td>NaN</td>\n",
       "      <td>NaN</td>\n",
       "      <td>NaN</td>\n",
       "      <td>42.9919</td>\n",
       "      <td>30.2045</td>\n",
       "      <td>0</td>\n",
       "      <td>15.2</td>\n",
       "      <td>37.65</td>\n",
       "      <td>70</td>\n",
       "      <td>130.7</td>\n",
       "    </tr>\n",
       "    <tr>\n",
       "      <th>SATISFACCION</th>\n",
       "      <td>23162</td>\n",
       "      <td>NaN</td>\n",
       "      <td>NaN</td>\n",
       "      <td>NaN</td>\n",
       "      <td>5.48084</td>\n",
       "      <td>2.80994</td>\n",
       "      <td>0.61358</td>\n",
       "      <td>2.7055</td>\n",
       "      <td>4.06455</td>\n",
       "      <td>8.26824</td>\n",
       "      <td>9.64262</td>\n",
       "    </tr>\n",
       "  </tbody>\n",
       "</table>\n",
       "</div>"
      ],
      "text/plain": [
       "                    count unique       top   freq         mean          std  \\\n",
       "ESTADO              23162      2  RETIRADO  11665          NaN          NaN   \n",
       "INGRESOS            23162    NaN       NaN    NaN  4.81312e+06  2.73737e+06   \n",
       "CASA                23162    NaN       NaN    NaN  7.16144e+08  4.81155e+08   \n",
       "PRECIO_DISPOSITIVO  23162    NaN       NaN    NaN  1.31534e+06       748570   \n",
       "MESES               23162    NaN       NaN    NaN      24.1971       14.264   \n",
       "DURACION            23162    NaN       NaN    NaN      9.60985      7.04001   \n",
       "SOBRECARGO          23162    NaN       NaN    NaN      110.056      100.772   \n",
       "SALDO_RESTANTE      23162    NaN       NaN    NaN      42.9919      30.2045   \n",
       "SATISFACCION        23162    NaN       NaN    NaN      5.48084      2.80994   \n",
       "\n",
       "                        min         25%          50%          75%       max  \n",
       "ESTADO                  NaN         NaN          NaN          NaN       NaN  \n",
       "INGRESOS             150000  2.1563e+06  6.13755e+06  7.34718e+06  9.65e+06  \n",
       "CASA                  8e+07    3.57e+08     6.24e+08   9.0775e+08  2.18e+09  \n",
       "PRECIO_DISPOSITIVO   200000      657184  1.23746e+06  1.82958e+06   4.7e+06  \n",
       "MESES                     0          14           24           34        79  \n",
       "DURACION                  0         2.1         14.6         16.1      20.1  \n",
       "SOBRECARGO                0     12.5669      75.3836       201.55   411.168  \n",
       "SALDO_RESTANTE            0        15.2        37.65           70     130.7  \n",
       "SATISFACCION        0.61358      2.7055      4.06455      8.26824   9.64262  "
      ]
     },
     "execution_count": 3,
     "metadata": {},
     "output_type": "execute_result"
    }
   ],
   "source": [
    "df.describe(include='all').T"
   ]
  },
  {
   "cell_type": "code",
   "execution_count": 4,
   "metadata": {
    "scrolled": true
   },
   "outputs": [
    {
     "name": "stdout",
     "output_type": "stream",
     "text": [
      "<class 'pandas.core.frame.DataFrame'>\n",
      "RangeIndex: 23162 entries, 0 to 23161\n",
      "Data columns (total 9 columns):\n",
      "ESTADO                23162 non-null object\n",
      "INGRESOS              23162 non-null int64\n",
      "CASA                  23162 non-null float64\n",
      "PRECIO_DISPOSITIVO    23162 non-null float64\n",
      "MESES                 23162 non-null int64\n",
      "DURACION              23162 non-null float64\n",
      "SOBRECARGO            23162 non-null float64\n",
      "SALDO_RESTANTE        23162 non-null float64\n",
      "SATISFACCION          23162 non-null float64\n",
      "dtypes: float64(6), int64(2), object(1)\n",
      "memory usage: 1.6+ MB\n"
     ]
    }
   ],
   "source": [
    "df.info()"
   ]
  },
  {
   "cell_type": "markdown",
   "metadata": {},
   "source": [
    "Podemos notar que no hay ningún valor nulo, por lo que no debemos preocuparnos de ese aspecto.\n",
    "De igual forma, la variable categórica (Estado) tiene dos únicos valores, lo que también es normal.\n",
    "Además, ningún valor númerico es menor a 0, por lo que desde este punto de vista no hay ninguna anomalía"
   ]
  },
  {
   "cell_type": "markdown",
   "metadata": {},
   "source": [
    "### Se pasará a ver la distribución de los datos en las variables numéricas con boxplots:"
   ]
  },
  {
   "cell_type": "code",
   "execution_count": 5,
   "metadata": {},
   "outputs": [
    {
     "data": {
      "image/png": "[encoded data removed]",
      "text/plain": [
       "<Figure size 1440x1440 with 8 Axes>"
      ]
     },
     "metadata": {
      "needs_background": "light"
     },
     "output_type": "display_data"
    }
   ],
   "source": [
    "fig = plt.figure(figsize=(20,20))\n",
    "i=1\n",
    "for var_num in df.columns[1:]:\n",
    "    ax = fig.add_subplot(4, 2, i) #Defino una tabla de 2 filas por 1 columnas, agrego el i-ésimo plot\n",
    "    sns.boxplot(y=var_num, data=df)\n",
    "    plt.title(var_num)\n",
    "    i+=1"
   ]
  },
  {
   "cell_type": "markdown",
   "metadata": {},
   "source": [
    "1. Existen outliers en CASA, PRECIO_DISPOSITIVO y en MESES.\n",
    "Solo se eliminaran aquellos valores que esten a mas o menos de 4 std del promedio."
   ]
  },
  {
   "cell_type": "code",
   "execution_count": 6,
   "metadata": {},
   "outputs": [
    {
     "name": "stdout",
     "output_type": "stream",
     "text": [
      "INGRESOS\n",
      "15762611.074484423\n",
      "CASA\n",
      "2640764007.11989\n",
      "PRECIO_DISPOSITIVO\n",
      "4309620.340600731\n"
     ]
    },
    {
     "name": "stderr",
     "output_type": "stream",
     "text": [
      "C:\\Users\\asus\\Anaconda3\\lib\\site-packages\\ipykernel_launcher.py:13: UserWarning: Boolean Series key will be reindexed to match DataFrame index.\n",
      "  del sys.path[0]\n"
     ]
    },
    {
     "name": "stdout",
     "output_type": "stream",
     "text": [
      "MESES\n",
      "81.25319104113953\n",
      "DURACION\n",
      "37.76988146479488\n",
      "SOBRECARGO\n",
      "513.1423078633511\n",
      "SALDO_RESTANTE\n",
      "163.81004697843292\n",
      "SATISFACCION\n",
      "16.720589924444518\n"
     ]
    }
   ],
   "source": [
    "upper_bounds={}\n",
    "lower_bounds={}\n",
    "for var_num in df.columns[1:]:\n",
    "    msk=df[var_num]\n",
    "    upper_bounds[var_num]=msk.mean()+4*msk.std()\n",
    "    lower_bounds[var_num]=msk.mean()-4*msk.std()\n",
    "    \n",
    "for var_num in df.columns[1:]:\n",
    "    msk=df[var_num]\n",
    "    print(var_num)\n",
    "    print(upper_bounds[var_num])\n",
    "    df=df[msk<=upper_bounds[var_num]]\n",
    "    df=df[msk>=lower_bounds[var_num]]"
   ]
  },
  {
   "cell_type": "code",
   "execution_count": 7,
   "metadata": {},
   "outputs": [],
   "source": [
    "df=df.reset_index(drop=True)"
   ]
  },
  {
   "cell_type": "markdown",
   "metadata": {},
   "source": [
    "### Analisis correlación entre variables"
   ]
  },
  {
   "cell_type": "code",
   "execution_count": 8,
   "metadata": {},
   "outputs": [
    {
     "data": {
      "text/html": [
       "<div>\n",
       "<style scoped>\n",
       "    .dataframe tbody tr th:only-of-type {\n",
       "        vertical-align: middle;\n",
       "    }\n",
       "\n",
       "    .dataframe tbody tr th {\n",
       "        vertical-align: top;\n",
       "    }\n",
       "\n",
       "    .dataframe thead th {\n",
       "        text-align: right;\n",
       "    }\n",
       "</style>\n",
       "<table border=\"1\" class=\"dataframe\">\n",
       "  <thead>\n",
       "    <tr style=\"text-align: right;\">\n",
       "      <th></th>\n",
       "      <th>INGRESOS</th>\n",
       "      <th>CASA</th>\n",
       "      <th>PRECIO_DISPOSITIVO</th>\n",
       "      <th>MESES</th>\n",
       "      <th>DURACION</th>\n",
       "      <th>SOBRECARGO</th>\n",
       "      <th>SALDO_RESTANTE</th>\n",
       "      <th>SATISFACCION</th>\n",
       "    </tr>\n",
       "  </thead>\n",
       "  <tbody>\n",
       "    <tr>\n",
       "      <th>INGRESOS</th>\n",
       "      <td>1.000000</td>\n",
       "      <td>0.384465</td>\n",
       "      <td>-0.006736</td>\n",
       "      <td>-0.005715</td>\n",
       "      <td>-0.158182</td>\n",
       "      <td>-0.000666</td>\n",
       "      <td>0.844883</td>\n",
       "      <td>0.002619</td>\n",
       "    </tr>\n",
       "    <tr>\n",
       "      <th>CASA</th>\n",
       "      <td>0.384465</td>\n",
       "      <td>1.000000</td>\n",
       "      <td>0.001439</td>\n",
       "      <td>-0.002846</td>\n",
       "      <td>-0.063700</td>\n",
       "      <td>0.003249</td>\n",
       "      <td>0.326608</td>\n",
       "      <td>0.002450</td>\n",
       "    </tr>\n",
       "    <tr>\n",
       "      <th>PRECIO_DISPOSITIVO</th>\n",
       "      <td>-0.006736</td>\n",
       "      <td>0.001439</td>\n",
       "      <td>1.000000</td>\n",
       "      <td>-0.001461</td>\n",
       "      <td>0.011556</td>\n",
       "      <td>0.005013</td>\n",
       "      <td>-0.004230</td>\n",
       "      <td>-0.000413</td>\n",
       "    </tr>\n",
       "    <tr>\n",
       "      <th>MESES</th>\n",
       "      <td>-0.005715</td>\n",
       "      <td>-0.002846</td>\n",
       "      <td>-0.001461</td>\n",
       "      <td>1.000000</td>\n",
       "      <td>0.007094</td>\n",
       "      <td>0.004717</td>\n",
       "      <td>-0.003614</td>\n",
       "      <td>0.002726</td>\n",
       "    </tr>\n",
       "    <tr>\n",
       "      <th>DURACION</th>\n",
       "      <td>-0.158182</td>\n",
       "      <td>-0.063700</td>\n",
       "      <td>0.011556</td>\n",
       "      <td>0.007094</td>\n",
       "      <td>1.000000</td>\n",
       "      <td>0.001898</td>\n",
       "      <td>0.046901</td>\n",
       "      <td>0.000928</td>\n",
       "    </tr>\n",
       "    <tr>\n",
       "      <th>SOBRECARGO</th>\n",
       "      <td>-0.000666</td>\n",
       "      <td>0.003249</td>\n",
       "      <td>0.005013</td>\n",
       "      <td>0.004717</td>\n",
       "      <td>0.001898</td>\n",
       "      <td>1.000000</td>\n",
       "      <td>0.002447</td>\n",
       "      <td>0.889806</td>\n",
       "    </tr>\n",
       "    <tr>\n",
       "      <th>SALDO_RESTANTE</th>\n",
       "      <td>0.844883</td>\n",
       "      <td>0.326608</td>\n",
       "      <td>-0.004230</td>\n",
       "      <td>-0.003614</td>\n",
       "      <td>0.046901</td>\n",
       "      <td>0.002447</td>\n",
       "      <td>1.000000</td>\n",
       "      <td>0.004330</td>\n",
       "    </tr>\n",
       "    <tr>\n",
       "      <th>SATISFACCION</th>\n",
       "      <td>0.002619</td>\n",
       "      <td>0.002450</td>\n",
       "      <td>-0.000413</td>\n",
       "      <td>0.002726</td>\n",
       "      <td>0.000928</td>\n",
       "      <td>0.889806</td>\n",
       "      <td>0.004330</td>\n",
       "      <td>1.000000</td>\n",
       "    </tr>\n",
       "  </tbody>\n",
       "</table>\n",
       "</div>"
      ],
      "text/plain": [
       "                    INGRESOS      CASA  PRECIO_DISPOSITIVO     MESES  \\\n",
       "INGRESOS            1.000000  0.384465           -0.006736 -0.005715   \n",
       "CASA                0.384465  1.000000            0.001439 -0.002846   \n",
       "PRECIO_DISPOSITIVO -0.006736  0.001439            1.000000 -0.001461   \n",
       "MESES              -0.005715 -0.002846           -0.001461  1.000000   \n",
       "DURACION           -0.158182 -0.063700            0.011556  0.007094   \n",
       "SOBRECARGO         -0.000666  0.003249            0.005013  0.004717   \n",
       "SALDO_RESTANTE      0.844883  0.326608           -0.004230 -0.003614   \n",
       "SATISFACCION        0.002619  0.002450           -0.000413  0.002726   \n",
       "\n",
       "                    DURACION  SOBRECARGO  SALDO_RESTANTE  SATISFACCION  \n",
       "INGRESOS           -0.158182   -0.000666        0.844883      0.002619  \n",
       "CASA               -0.063700    0.003249        0.326608      0.002450  \n",
       "PRECIO_DISPOSITIVO  0.011556    0.005013       -0.004230     -0.000413  \n",
       "MESES               0.007094    0.004717       -0.003614      0.002726  \n",
       "DURACION            1.000000    0.001898        0.046901      0.000928  \n",
       "SOBRECARGO          0.001898    1.000000        0.002447      0.889806  \n",
       "SALDO_RESTANTE      0.046901    0.002447        1.000000      0.004330  \n",
       "SATISFACCION        0.000928    0.889806        0.004330      1.000000  "
      ]
     },
     "execution_count": 8,
     "metadata": {},
     "output_type": "execute_result"
    }
   ],
   "source": [
    "preCorr = df.drop(columns=\"ESTADO\")\n",
    "preCorr.corr()"
   ]
  },
  {
   "cell_type": "markdown",
   "metadata": {},
   "source": [
    "Al analizar la correlación entre variables, podemos encontrar que 2 correlaciones son altas: la correlación entre SALDO_RESTANTE e INGRESOS (0.84) y la correlación entre SATISFACCION y SOBRECARGO (0.89)."
   ]
  },
  {
   "cell_type": "markdown",
   "metadata": {},
   "source": [
    "Por esto, se puede utilizar PCA para mejorar el analisis posterior al hacer independiente las variables a costa de perder su interpretabilidad."
   ]
  },
  {
   "cell_type": "markdown",
   "metadata": {},
   "source": [
    "Se decide cambiar los valores de retirado por 1, y los de vinculado por 0, esto debido a la definicion de positivo y negativo que se dara mas adelante"
   ]
  },
  {
   "cell_type": "code",
   "execution_count": 63,
   "metadata": {},
   "outputs": [
    {
     "name": "stderr",
     "output_type": "stream",
     "text": [
      "C:\\Users\\asus\\Anaconda3\\lib\\site-packages\\sklearn\\preprocessing\\data.py:645: DataConversionWarning: Data with input dtype int64, float64 were all converted to float64 by StandardScaler.\n",
      "  return self.partial_fit(X, y)\n",
      "C:\\Users\\asus\\Anaconda3\\lib\\site-packages\\sklearn\\base.py:464: DataConversionWarning: Data with input dtype int64, float64 were all converted to float64 by StandardScaler.\n",
      "  return self.fit(X, **fit_params).transform(X)\n"
     ]
    },
    {
     "data": {
      "text/html": [
       "<div>\n",
       "<style scoped>\n",
       "    .dataframe tbody tr th:only-of-type {\n",
       "        vertical-align: middle;\n",
       "    }\n",
       "\n",
       "    .dataframe tbody tr th {\n",
       "        vertical-align: top;\n",
       "    }\n",
       "\n",
       "    .dataframe thead th {\n",
       "        text-align: right;\n",
       "    }\n",
       "</style>\n",
       "<table border=\"1\" class=\"dataframe\">\n",
       "  <thead>\n",
       "    <tr style=\"text-align: right;\">\n",
       "      <th></th>\n",
       "      <th>ESTADO</th>\n",
       "      <th>0</th>\n",
       "      <th>1</th>\n",
       "      <th>2</th>\n",
       "      <th>3</th>\n",
       "      <th>4</th>\n",
       "      <th>5</th>\n",
       "      <th>6</th>\n",
       "      <th>7</th>\n",
       "    </tr>\n",
       "  </thead>\n",
       "  <tbody>\n",
       "    <tr>\n",
       "      <th>0</th>\n",
       "      <td>0</td>\n",
       "      <td>-0.449363</td>\n",
       "      <td>-1.619763</td>\n",
       "      <td>-0.968673</td>\n",
       "      <td>-0.055228</td>\n",
       "      <td>0.719247</td>\n",
       "      <td>0.486791</td>\n",
       "      <td>0.125017</td>\n",
       "      <td>-0.244001</td>\n",
       "    </tr>\n",
       "    <tr>\n",
       "      <th>1</th>\n",
       "      <td>0</td>\n",
       "      <td>2.047057</td>\n",
       "      <td>-1.358564</td>\n",
       "      <td>-0.400182</td>\n",
       "      <td>-0.773284</td>\n",
       "      <td>1.216780</td>\n",
       "      <td>1.319316</td>\n",
       "      <td>0.511066</td>\n",
       "      <td>0.226857</td>\n",
       "    </tr>\n",
       "    <tr>\n",
       "      <th>2</th>\n",
       "      <td>1</td>\n",
       "      <td>-2.128797</td>\n",
       "      <td>2.474087</td>\n",
       "      <td>0.576179</td>\n",
       "      <td>1.490837</td>\n",
       "      <td>-0.734514</td>\n",
       "      <td>-0.317911</td>\n",
       "      <td>-0.191515</td>\n",
       "      <td>-0.959068</td>\n",
       "    </tr>\n",
       "    <tr>\n",
       "      <th>3</th>\n",
       "      <td>1</td>\n",
       "      <td>0.206507</td>\n",
       "      <td>1.731249</td>\n",
       "      <td>1.894257</td>\n",
       "      <td>-0.216079</td>\n",
       "      <td>1.199616</td>\n",
       "      <td>-1.445801</td>\n",
       "      <td>1.046334</td>\n",
       "      <td>-0.001869</td>\n",
       "    </tr>\n",
       "    <tr>\n",
       "      <th>4</th>\n",
       "      <td>1</td>\n",
       "      <td>1.428179</td>\n",
       "      <td>0.939120</td>\n",
       "      <td>-1.478062</td>\n",
       "      <td>0.162487</td>\n",
       "      <td>-0.329175</td>\n",
       "      <td>-0.807260</td>\n",
       "      <td>0.136936</td>\n",
       "      <td>0.673993</td>\n",
       "    </tr>\n",
       "  </tbody>\n",
       "</table>\n",
       "</div>"
      ],
      "text/plain": [
       "   ESTADO         0         1         2         3         4         5  \\\n",
       "0       0 -0.449363 -1.619763 -0.968673 -0.055228  0.719247  0.486791   \n",
       "1       0  2.047057 -1.358564 -0.400182 -0.773284  1.216780  1.319316   \n",
       "2       1 -2.128797  2.474087  0.576179  1.490837 -0.734514 -0.317911   \n",
       "3       1  0.206507  1.731249  1.894257 -0.216079  1.199616 -1.445801   \n",
       "4       1  1.428179  0.939120 -1.478062  0.162487 -0.329175 -0.807260   \n",
       "\n",
       "          6         7  \n",
       "0  0.125017 -0.244001  \n",
       "1  0.511066  0.226857  \n",
       "2 -0.191515 -0.959068  \n",
       "3  1.046334 -0.001869  \n",
       "4  0.136936  0.673993  "
      ]
     },
     "execution_count": 63,
     "metadata": {},
     "output_type": "execute_result"
    }
   ],
   "source": [
    "scaler = StandardScaler(with_mean=True, with_std=True)\n",
    "pca = PCA()\n",
    "df_estado=df[['ESTADO']]\n",
    "df_var=df.drop(columns='ESTADO')\n",
    "df_norm = pd.DataFrame(pca.fit_transform(scaler.fit_transform(df_var)))\n",
    "df_pca = pd.concat([df_estado,df_norm],axis=1)\n",
    "df_pca.loc[df_pca['ESTADO'] == 'RETIRADO', 'ESTADO'] = 1\n",
    "df_pca.loc[df_pca['ESTADO'] == 'VINCULADO', 'ESTADO'] = 0\n",
    "df_pca.head()"
   ]
  },
  {
   "cell_type": "markdown",
   "metadata": {},
   "source": [
    "Ahora se quiere analizar la varianza explicada por cada PC."
   ]
  },
  {
   "cell_type": "code",
   "execution_count": 64,
   "metadata": {},
   "outputs": [
    {
     "name": "stdout",
     "output_type": "stream",
     "text": [
      "[0.26109487 0.49730995 0.62534879 0.75051946 0.87461914 0.97007271\n",
      " 0.98623176 1.        ]\n"
     ]
    },
    {
     "data": {
      "image/png": "[encoded data removed]",
      "text/plain": [
       "<Figure size 1080x504 with 1 Axes>"
      ]
     },
     "metadata": {
      "needs_background": "light"
     },
     "output_type": "display_data"
    }
   ],
   "source": [
    "var_exp=pca.explained_variance_ratio_ # varianza explicada por cada PC\n",
    "cum_var_exp = np.cumsum(var_exp) # varianza acumulada por los primeros n PCs\n",
    "print(cum_var_exp)\n",
    "plt.figure(figsize=(15, 7))\n",
    "plt.bar(range(len(var_exp)), var_exp, alpha=0.3333, align='center', label='Varianza explicada por cada PC', color = 'g')\n",
    "plt.step(range(len(cum_var_exp)), cum_var_exp, where='mid',label='Varianza explicada acumulada')\n",
    "plt.ylabel('Porcentaje de varianza explicada')\n",
    "plt.xlabel('Componentes principales')\n",
    "plt.legend(loc='best')\n",
    "plt.show()"
   ]
  },
  {
   "cell_type": "markdown",
   "metadata": {},
   "source": [
    "Podemos ver que con los primeros 6 componentes, ya tenemos casi el 97% de la varianza explicada, por lo tanto, quitaremos los ultimos 2 componentes"
   ]
  },
  {
   "cell_type": "code",
   "execution_count": 65,
   "metadata": {},
   "outputs": [
    {
     "data": {
      "text/html": [
       "<div>\n",
       "<style scoped>\n",
       "    .dataframe tbody tr th:only-of-type {\n",
       "        vertical-align: middle;\n",
       "    }\n",
       "\n",
       "    .dataframe tbody tr th {\n",
       "        vertical-align: top;\n",
       "    }\n",
       "\n",
       "    .dataframe thead th {\n",
       "        text-align: right;\n",
       "    }\n",
       "</style>\n",
       "<table border=\"1\" class=\"dataframe\">\n",
       "  <thead>\n",
       "    <tr style=\"text-align: right;\">\n",
       "      <th></th>\n",
       "      <th>ESTADO</th>\n",
       "      <th>0</th>\n",
       "      <th>1</th>\n",
       "      <th>2</th>\n",
       "      <th>3</th>\n",
       "      <th>4</th>\n",
       "      <th>5</th>\n",
       "    </tr>\n",
       "  </thead>\n",
       "  <tbody>\n",
       "    <tr>\n",
       "      <th>0</th>\n",
       "      <td>0</td>\n",
       "      <td>-0.449363</td>\n",
       "      <td>-1.619763</td>\n",
       "      <td>-0.968673</td>\n",
       "      <td>-0.055228</td>\n",
       "      <td>0.719247</td>\n",
       "      <td>0.486791</td>\n",
       "    </tr>\n",
       "    <tr>\n",
       "      <th>1</th>\n",
       "      <td>0</td>\n",
       "      <td>2.047057</td>\n",
       "      <td>-1.358564</td>\n",
       "      <td>-0.400182</td>\n",
       "      <td>-0.773284</td>\n",
       "      <td>1.216780</td>\n",
       "      <td>1.319316</td>\n",
       "    </tr>\n",
       "    <tr>\n",
       "      <th>2</th>\n",
       "      <td>1</td>\n",
       "      <td>-2.128797</td>\n",
       "      <td>2.474087</td>\n",
       "      <td>0.576179</td>\n",
       "      <td>1.490837</td>\n",
       "      <td>-0.734514</td>\n",
       "      <td>-0.317911</td>\n",
       "    </tr>\n",
       "    <tr>\n",
       "      <th>3</th>\n",
       "      <td>1</td>\n",
       "      <td>0.206507</td>\n",
       "      <td>1.731249</td>\n",
       "      <td>1.894257</td>\n",
       "      <td>-0.216079</td>\n",
       "      <td>1.199616</td>\n",
       "      <td>-1.445801</td>\n",
       "    </tr>\n",
       "    <tr>\n",
       "      <th>4</th>\n",
       "      <td>1</td>\n",
       "      <td>1.428179</td>\n",
       "      <td>0.939120</td>\n",
       "      <td>-1.478062</td>\n",
       "      <td>0.162487</td>\n",
       "      <td>-0.329175</td>\n",
       "      <td>-0.807260</td>\n",
       "    </tr>\n",
       "  </tbody>\n",
       "</table>\n",
       "</div>"
      ],
      "text/plain": [
       "   ESTADO         0         1         2         3         4         5\n",
       "0       0 -0.449363 -1.619763 -0.968673 -0.055228  0.719247  0.486791\n",
       "1       0  2.047057 -1.358564 -0.400182 -0.773284  1.216780  1.319316\n",
       "2       1 -2.128797  2.474087  0.576179  1.490837 -0.734514 -0.317911\n",
       "3       1  0.206507  1.731249  1.894257 -0.216079  1.199616 -1.445801\n",
       "4       1  1.428179  0.939120 -1.478062  0.162487 -0.329175 -0.807260"
      ]
     },
     "execution_count": 65,
     "metadata": {},
     "output_type": "execute_result"
    }
   ],
   "source": [
    "df_pca=df_pca.drop(columns=6)\n",
    "df_pca=df_pca.drop(columns=7)\n",
    "df_pca.head()"
   ]
  },
  {
   "cell_type": "markdown",
   "metadata": {},
   "source": [
    "Se va a utilizar el protocolo de evaluación Holdout para evaluar los modelos, y el protocolo de k fold cross validation para calibrarlos"
   ]
  },
  {
   "cell_type": "code",
   "execution_count": 67,
   "metadata": {},
   "outputs": [],
   "source": [
    "data_x=df_pca.drop(columns='ESTADO')\n",
    "data_y=df_pca[['ESTADO']]\n",
    "X_train, X_test, y_train, y_test = train_test_split(data_x,data_y.values,\n",
    "                                                    test_size=0.3,\n",
    "                                                    random_state=12345,\n",
    "                                                    stratify=data_y.values)"
   ]
  },
  {
   "cell_type": "markdown",
   "metadata": {},
   "source": [
    "Antes de establecer las metricas a utilizar, se calcula el accuracy del baseline:"
   ]
  },
  {
   "cell_type": "code",
   "execution_count": 68,
   "metadata": {},
   "outputs": [
    {
     "name": "stdout",
     "output_type": "stream",
     "text": [
      "0.5036704378616461\n"
     ]
    }
   ],
   "source": [
    "print(df[df['ESTADO']=='RETIRADO'].size/df.size)"
   ]
  },
  {
   "cell_type": "markdown",
   "metadata": {},
   "source": [
    "Se define terminologia: positivo=RETIRADO, negativo=VINCULADO"
   ]
  },
  {
   "cell_type": "markdown",
   "metadata": {},
   "source": [
    "Se decide utilizar las metricas de accuracy y recall. Accuracy debido a que las dos clases en los datos estan balanceadas, y recall porque es muy importante identificar aquellos clientes en riesgo de retirarse lo mas rapido posible, esto para despues fidelizarlos adecuadamente. "
   ]
  },
  {
   "cell_type": "markdown",
   "metadata": {},
   "source": [
    "### Calibración modelos: KNN"
   ]
  },
  {
   "cell_type": "code",
   "execution_count": 69,
   "metadata": {
    "scrolled": false
   },
   "outputs": [
    {
     "name": "stdout",
     "output_type": "stream",
     "text": [
      "(accuracy,recall,k)\n",
      "(0.9057988099153358, 0.9009063224187409, 15)\n"
     ]
    },
    {
     "data": {
      "text/plain": [
       "<matplotlib.legend.Legend at 0x247c650bb70>"
      ]
     },
     "execution_count": 69,
     "metadata": {},
     "output_type": "execute_result"
    },
    {
     "data": {
      "image/png": "[encoded data removed]",
      "text/plain": [
       "<Figure size 720x360 with 1 Axes>"
      ]
     },
     "metadata": {
      "needs_background": "light"
     },
     "output_type": "display_data"
    }
   ],
   "source": [
    "acc_test=[]\n",
    "recall_test=[]\n",
    "k_vec= np.arange(1,20,1)\n",
    "bestK=(-1,-1,-1)\n",
    "for k in k_vec:\n",
    "    knn = KNeighborsClassifier(n_neighbors=k)\n",
    "    accuracies=cross_val_score(knn,X_train,y_train.ravel(),cv=5,scoring='accuracy')\n",
    "    recalls=cross_val_score(knn,X_train,y_train.ravel(),cv=5,scoring='recall')\n",
    "    acc_test.append(accuracies.mean())\n",
    "    recall_test.append(recalls.mean())\n",
    "    bestK=max(bestK,(acc_test[-1],recall_test[-1],k))\n",
    "print('(accuracy,recall,k)')\n",
    "print(bestK)\n",
    "plt.figure(figsize=(10,5))\n",
    "ax = plt.gca() # get current axis\n",
    "plt.plot(k_vec, acc_test)\n",
    "plt.plot(k_vec, recall_test)\n",
    "ax.set_xlim(ax.get_xlim()[::-1])  # reverse axis\n",
    "plt.axis('tight')\n",
    "plt.xlabel('k')\n",
    "plt.ylabel('%')\n",
    "plt.title('% vs complejidad del modelo k-nn (valor de k más pequeño)')\n",
    "plt.legend(['accuracy', 'recall'])"
   ]
  },
  {
   "cell_type": "markdown",
   "metadata": {},
   "source": [
    "Se decide tomar 15 como valor optimo para k"
   ]
  },
  {
   "cell_type": "markdown",
   "metadata": {},
   "source": [
    "### Calibración modelos: arbol de decisión"
   ]
  },
  {
   "cell_type": "markdown",
   "metadata": {},
   "source": [
    "Para calibrar los arboles de decisión, se analizaran individualmente valores de min_samples_split y de min_samples_leaf."
   ]
  },
  {
   "cell_type": "code",
   "execution_count": 72,
   "metadata": {},
   "outputs": [
    {
     "name": "stdout",
     "output_type": "stream",
     "text": [
      "accuracy,recall,MSS\n",
      "(0.8998146588893372, 0.8961290119232016, 382)\n"
     ]
    },
    {
     "data": {
      "text/plain": [
       "<matplotlib.legend.Legend at 0x247c700ef98>"
      ]
     },
     "execution_count": 72,
     "metadata": {},
     "output_type": "execute_result"
    },
    {
     "data": {
      "image/png": "[encoded data removed]",
      "text/plain": [
       "<Figure size 720x360 with 1 Axes>"
      ]
     },
     "metadata": {
      "needs_background": "light"
     },
     "output_type": "display_data"
    }
   ],
   "source": [
    "acc_test=[]\n",
    "recall_test=[]\n",
    "vec= np.arange(2,400,10)\n",
    "bestMSS=(-1,-1,-1)\n",
    "for mss in vec:\n",
    "    np.random.seed(1234)\n",
    "    ctree = tree.DecisionTreeClassifier(\n",
    "        criterion='entropy', # el criterio de particionamiento de un conjunto de datos (gini, entropy)\n",
    "        max_depth=None,      # prepoda: controla la profundidad del árbol (largo máximo de las ramas)\n",
    "        min_samples_split=mss, # prepoda: el mínimo número de registros necesarios para crear una nueva rama\n",
    "        min_samples_leaf=1,  # prepoda: el mínimo número de registros en una hoja\n",
    "        random_state=None,   # semilla del generador aleatorio utilizado para \n",
    "        max_leaf_nodes=None, # prepoda: máximo número de nodos hojas\n",
    "        min_impurity_decrease=0.0, # prepoda: umbral mínimo de reducción de la impureza para aceptar la creación de una rama\n",
    "        class_weight=None    # permite asociar pesos a las clases, en el caso de diferencias de importancia entre ellas\n",
    "    )\n",
    "    accuracies=cross_val_score(ctree,X_train,y_train.ravel(),cv=5,scoring='accuracy')\n",
    "    recalls=cross_val_score(ctree,X_train,y_train.ravel(),cv=5,scoring='recall')\n",
    "    acc_test.append(accuracies.mean())\n",
    "    recall_test.append(recalls.mean())\n",
    "    bestMSS=max(bestMSS,(acc_test[-1],recall_test[-1],mss))\n",
    "print('accuracy,recall,MSS')\n",
    "print(bestMSS)\n",
    "plt.figure(figsize=(10,5))\n",
    "ax = plt.gca() # get current axis\n",
    "plt.plot(vec, acc_test)\n",
    "plt.plot(vec, recall_test)\n",
    "plt.axis('tight')\n",
    "plt.xlabel('mss')\n",
    "plt.ylabel('%')\n",
    "plt.title('% vs minimum sample split')\n",
    "plt.legend(['accuracy', 'recall'])"
   ]
  },
  {
   "cell_type": "code",
   "execution_count": 74,
   "metadata": {},
   "outputs": [
    {
     "name": "stdout",
     "output_type": "stream",
     "text": [
      "accuracy,recall,MSL\n",
      "(0.90444171808324, 0.8980892709196354, 20)\n"
     ]
    },
    {
     "data": {
      "text/plain": [
       "<matplotlib.legend.Legend at 0x247cb9b35c0>"
      ]
     },
     "execution_count": 74,
     "metadata": {},
     "output_type": "execute_result"
    },
    {
     "data": {
      "image/png": "[encoded data removed]",
      "text/plain": [
       "<Figure size 720x360 with 1 Axes>"
      ]
     },
     "metadata": {
      "needs_background": "light"
     },
     "output_type": "display_data"
    }
   ],
   "source": [
    "acc_test=[]\n",
    "recall_test=[]\n",
    "vec= np.arange(1,21,1)\n",
    "bestMSL=(-1,-1,-1)\n",
    "for msl in vec:\n",
    "    np.random.seed(1234)\n",
    "    ctree = tree.DecisionTreeClassifier(\n",
    "        criterion='entropy', # el criterio de particionamiento de un conjunto de datos (gini, entropy)\n",
    "        max_depth=None,      # prepoda: controla la profundidad del árbol (largo máximo de las ramas)\n",
    "        min_samples_split=2, # prepoda: el mínimo número de registros necesarios para crear una nueva rama\n",
    "        min_samples_leaf=msl,  # prepoda: el mínimo número de registros en una hoja\n",
    "        random_state=None,   # semilla del generador aleatorio utilizado para \n",
    "        max_leaf_nodes=None, # prepoda: máximo número de nodos hojas\n",
    "        min_impurity_decrease=0.0, # prepoda: umbral mínimo de reducción de la impureza para aceptar la creación de una rama\n",
    "        class_weight=None    # permite asociar pesos a las clases, en el caso de diferencias de importancia entre ellas\n",
    "    )\n",
    "    accuracies=cross_val_score(ctree,X_train,y_train.ravel(),cv=5,scoring='accuracy')\n",
    "    recalls=cross_val_score(ctree,X_train,y_train.ravel(),cv=5,scoring='recall')\n",
    "    acc_test.append(accuracies.mean())\n",
    "    recall_test.append(recalls.mean())\n",
    "    bestMSL=max(bestMSL,(acc_test[-1],recall_test[-1],msl))\n",
    "print('accuracy,recall,MSL')\n",
    "print(bestMSL)\n",
    "plt.figure(figsize=(10,5))\n",
    "ax = plt.gca() # get current axis\n",
    "plt.plot(vec, acc_test)\n",
    "plt.plot(vec, recall_test)\n",
    "plt.axis('tight')\n",
    "plt.xlabel('msl')\n",
    "plt.ylabel('%')\n",
    "plt.title('% vs minimum sample leaf')\n",
    "plt.legend(['accuracy', 'recall'])"
   ]
  },
  {
   "cell_type": "markdown",
   "metadata": {},
   "source": [
    "Al observar los valores optimos de min_samples_split (~382) y min_samples_leaf (~20), se decide hacer un modelo con estos dos valores."
   ]
  },
  {
   "cell_type": "markdown",
   "metadata": {},
   "source": [
    "### Calibración modelos: Naive Bayes"
   ]
  },
  {
   "cell_type": "code",
   "execution_count": 75,
   "metadata": {},
   "outputs": [
    {
     "name": "stdout",
     "output_type": "stream",
     "text": [
      "accuracy,recall,smoothingVar\n",
      "(0.9059838808709362, 0.9012738193869098, 20)\n"
     ]
    },
    {
     "data": {
      "text/plain": [
       "<matplotlib.legend.Legend at 0x247cba2b6d8>"
      ]
     },
     "execution_count": 75,
     "metadata": {},
     "output_type": "execute_result"
    },
    {
     "data": {
      "image/png": "[encoded data removed]",
      "text/plain": [
       "<Figure size 720x360 with 1 Axes>"
      ]
     },
     "metadata": {
      "needs_background": "light"
     },
     "output_type": "display_data"
    }
   ],
   "source": [
    "bestSV=(-1,-1,-1)\n",
    "acc_test=[]\n",
    "recall_test=[]\n",
    "smoothing_vec= [1e-100,1e-20,1e-10,1e-9,1e-8,1e-4,1e-2,1e-1,0,1,10,20,30,40,50]\n",
    "for var in smoothing_vec:\n",
    "    clf = GaussianNB(var_smoothing=var)\n",
    "    accuracies=cross_val_score(clf,X_train,y_train.ravel(),cv=5,scoring='accuracy')\n",
    "    recalls=cross_val_score(clf,X_train,y_train.ravel(),cv=5,scoring='recall')\n",
    "    acc_test.append(accuracies.mean())\n",
    "    recall_test.append(recalls.mean())\n",
    "    bestSV=max(bestSV,(acc_test[-1],recall_test[-1],var))\n",
    "print('accuracy,recall,smoothingVar')\n",
    "print(bestSV)\n",
    "plt.figure(figsize=(10,5))\n",
    "ax = plt.gca() # get current axis\n",
    "plt.plot(smoothing_vec,acc_test)\n",
    "plt.plot(smoothing_vec,recall_test)\n",
    "plt.axis('tight')\n",
    "plt.xlabel('smoothing_vec')\n",
    "plt.ylabel('%')\n",
    "plt.title('% vs complejidad del modelo gaussianNB')\n",
    "plt.legend(['accuracy','recall'])"
   ]
  },
  {
   "cell_type": "markdown",
   "metadata": {},
   "source": [
    "Podemos observar que el modelo optimo con el gaussianNB, se logra con un smoothing_var de 20"
   ]
  },
  {
   "cell_type": "markdown",
   "metadata": {},
   "source": [
    "## Evaluación modelos:"
   ]
  },
  {
   "cell_type": "code",
   "execution_count": 81,
   "metadata": {},
   "outputs": [
    {
     "name": "stdout",
     "output_type": "stream",
     "text": [
      "EVALUACIÓN KNN\n",
      "Accuracy:  0.9052964881980426\n",
      "Kappa:  0.8105978728291054\n",
      "Recall:  0.9005714285714286\n",
      "Precision:  0.9104563835932987\n",
      "F1:  0.9054869290433784\n",
      "EVALUACIÓN ARBOL DE DECISIÓN\n",
      "accuracy:  0.905440414507772\n",
      "Kappa:  0.810885310600862\n",
      "Recall:  0.9008571428571429\n",
      "Precision:  0.9104822408316489\n",
      "F1:  0.9056441189142612\n",
      "EVALUACIÓN NAIVE BAYES\n",
      "Accuracy:  0.905440414507772\n",
      "Kappa:  0.810885310600862\n",
      "Recall:  0.9008571428571429\n",
      "Precision:  0.9104822408316489\n",
      "F1:  0.9056441189142612\n"
     ]
    }
   ],
   "source": [
    "print('EVALUACIÓN KNN')\n",
    "knn = KNeighborsClassifier(n_neighbors=15)\n",
    "knn.fit(X_train,y_train.ravel())\n",
    "y_pred=knn.predict(X_test)\n",
    "print('Accuracy: ',metrics.accuracy_score(y_test,y_pred))\n",
    "print('Kappa: ',metrics.cohen_kappa_score(y_test,y_pred))\n",
    "print('Recall: ',metrics.recall_score(y_test,y_pred))\n",
    "print('Precision: ',metrics.precision_score(y_test,y_pred))\n",
    "print('F1: ',metrics.f1_score(y_test,y_pred))\n",
    "\n",
    "\n",
    "print('EVALUACIÓN ARBOL DE DECISIÓN')\n",
    "np.random.seed(1234)\n",
    "ctree = tree.DecisionTreeClassifier(\n",
    "    criterion='entropy', # el criterio de particionamiento de un conjunto de datos (gini, entropy)\n",
    "    max_depth=None,      # prepoda: controla la profundidad del árbol (largo máximo de las ramas)\n",
    "    min_samples_split=382, # prepoda: el mínimo número de registros necesarios para crear una nueva rama\n",
    "    min_samples_leaf=20,  # prepoda: el mínimo número de registros en una hoja\n",
    "    random_state=None,   # semilla del generador aleatorio utilizado para \n",
    "    max_leaf_nodes=None, # prepoda: máximo número de nodos hojas\n",
    "    min_impurity_decrease=0.0, # prepoda: umbral mínimo de reducción de la impureza para aceptar la creación de una rama\n",
    "    class_weight=None    # permite asociar pesos a las clases, en el caso de diferencias de importancia entre ellas\n",
    ")\n",
    "ctree.fit(X_train, y_train.ravel())\n",
    "y_pred = ctree.predict(X_test)\n",
    "print('accuracy: ',metrics.accuracy_score(y_test, y_pred))\n",
    "print('Kappa: ',metrics.cohen_kappa_score(y_test,y_pred))\n",
    "print('Recall: ',metrics.recall_score(y_test, y_pred))\n",
    "print('Precision: ',metrics.precision_score(y_test,y_pred))\n",
    "print('F1: ',metrics.f1_score(y_test,y_pred))\n",
    "\n",
    "print('EVALUACIÓN NAIVE BAYES')\n",
    "clf = GaussianNB(var_smoothing=20)\n",
    "clf.fit(X_train,y_train.ravel())\n",
    "y_pred=clf.predict(X_test)\n",
    "print('Accuracy: ',metrics.accuracy_score(y_test,y_pred))\n",
    "print('Kappa: ',metrics.cohen_kappa_score(y_test,y_pred))\n",
    "print('Recall: ',metrics.recall_score(y_test,y_pred))\n",
    "print('Precision: ',metrics.precision_score(y_test,y_pred))\n",
    "print('F1: ',metrics.f1_score(y_test,y_pred))"
   ]
  },
  {
   "cell_type": "markdown",
   "metadata": {},
   "source": [
    "Originalmente vemos las metricas de accuracy y recall, pero encontramos que los modelos de arbol de decisión y naive bayes ademas de tener los mismos valores en esas dos metricas, en otras metricas (kappa,precision,f1) tambien resultan ser iguales.\n",
    "Por lo que podriamos elegir cualquier de los dos ultimos dos modelos, ya que los dos superan al de KNN y tienen un igual desempeño con respecto a las metricas analizadas."
   ]
  },
  {
   "cell_type": "markdown",
   "metadata": {},
   "source": [
    "## Parte 2"
   ]
  },
  {
   "cell_type": "markdown",
   "metadata": {},
   "source": [
    "Primero, se crea otro DataFrame, que será una copia del DataFrame original pero solo con la información de los clientes retirados. Una vez realizada esta copia, se elimina la columna Estado"
   ]
  },
  {
   "cell_type": "code",
   "execution_count": 17,
   "metadata": {},
   "outputs": [
    {
     "data": {
      "text/html": [
       "<div>\n",
       "<style scoped>\n",
       "    .dataframe tbody tr th:only-of-type {\n",
       "        vertical-align: middle;\n",
       "    }\n",
       "\n",
       "    .dataframe tbody tr th {\n",
       "        vertical-align: top;\n",
       "    }\n",
       "\n",
       "    .dataframe thead th {\n",
       "        text-align: right;\n",
       "    }\n",
       "</style>\n",
       "<table border=\"1\" class=\"dataframe\">\n",
       "  <thead>\n",
       "    <tr style=\"text-align: right;\">\n",
       "      <th></th>\n",
       "      <th>INGRESOS</th>\n",
       "      <th>CASA</th>\n",
       "      <th>PRECIO_DISPOSITIVO</th>\n",
       "      <th>MESES</th>\n",
       "      <th>DURACION</th>\n",
       "      <th>SOBRECARGO</th>\n",
       "      <th>SALDO_RESTANTE</th>\n",
       "      <th>SATISFACCION</th>\n",
       "    </tr>\n",
       "  </thead>\n",
       "  <tbody>\n",
       "    <tr>\n",
       "      <th>2</th>\n",
       "      <td>795993</td>\n",
       "      <td>9.500000e+07</td>\n",
       "      <td>452809.0</td>\n",
       "      <td>38</td>\n",
       "      <td>16.8</td>\n",
       "      <td>350.610224</td>\n",
       "      <td>13.9</td>\n",
       "      <td>8.359438</td>\n",
       "    </tr>\n",
       "    <tr>\n",
       "      <th>3</th>\n",
       "      <td>8115015</td>\n",
       "      <td>8.300000e+07</td>\n",
       "      <td>2617184.0</td>\n",
       "      <td>37</td>\n",
       "      <td>17.6</td>\n",
       "      <td>230.913888</td>\n",
       "      <td>45.7</td>\n",
       "      <td>8.964017</td>\n",
       "    </tr>\n",
       "    <tr>\n",
       "      <th>4</th>\n",
       "      <td>8187499</td>\n",
       "      <td>6.770000e+08</td>\n",
       "      <td>666069.0</td>\n",
       "      <td>19</td>\n",
       "      <td>0.0</td>\n",
       "      <td>131.541983</td>\n",
       "      <td>67.2</td>\n",
       "      <td>8.808206</td>\n",
       "    </tr>\n",
       "    <tr>\n",
       "      <th>6</th>\n",
       "      <td>7256758</td>\n",
       "      <td>7.120000e+08</td>\n",
       "      <td>3493707.0</td>\n",
       "      <td>20</td>\n",
       "      <td>14.8</td>\n",
       "      <td>217.322554</td>\n",
       "      <td>69.5</td>\n",
       "      <td>8.285137</td>\n",
       "    </tr>\n",
       "    <tr>\n",
       "      <th>7</th>\n",
       "      <td>3262245</td>\n",
       "      <td>6.840000e+08</td>\n",
       "      <td>985708.0</td>\n",
       "      <td>32</td>\n",
       "      <td>1.3</td>\n",
       "      <td>275.595131</td>\n",
       "      <td>19.0</td>\n",
       "      <td>8.040629</td>\n",
       "    </tr>\n",
       "    <tr>\n",
       "      <th>9</th>\n",
       "      <td>874177</td>\n",
       "      <td>7.250000e+08</td>\n",
       "      <td>1403586.0</td>\n",
       "      <td>19</td>\n",
       "      <td>17.8</td>\n",
       "      <td>0.000000</td>\n",
       "      <td>19.9</td>\n",
       "      <td>2.138861</td>\n",
       "    </tr>\n",
       "    <tr>\n",
       "      <th>10</th>\n",
       "      <td>4061667</td>\n",
       "      <td>9.340000e+08</td>\n",
       "      <td>438256.0</td>\n",
       "      <td>9</td>\n",
       "      <td>1.8</td>\n",
       "      <td>0.000000</td>\n",
       "      <td>4.9</td>\n",
       "      <td>2.164890</td>\n",
       "    </tr>\n",
       "    <tr>\n",
       "      <th>11</th>\n",
       "      <td>3529836</td>\n",
       "      <td>7.240000e+08</td>\n",
       "      <td>647659.0</td>\n",
       "      <td>18</td>\n",
       "      <td>4.3</td>\n",
       "      <td>303.162095</td>\n",
       "      <td>29.6</td>\n",
       "      <td>7.984475</td>\n",
       "    </tr>\n",
       "    <tr>\n",
       "      <th>12</th>\n",
       "      <td>3829846</td>\n",
       "      <td>8.770000e+08</td>\n",
       "      <td>1150132.0</td>\n",
       "      <td>40</td>\n",
       "      <td>5.4</td>\n",
       "      <td>150.868408</td>\n",
       "      <td>33.2</td>\n",
       "      <td>7.855744</td>\n",
       "    </tr>\n",
       "    <tr>\n",
       "      <th>13</th>\n",
       "      <td>7639749</td>\n",
       "      <td>3.170000e+08</td>\n",
       "      <td>825889.0</td>\n",
       "      <td>27</td>\n",
       "      <td>0.7</td>\n",
       "      <td>178.247186</td>\n",
       "      <td>89.5</td>\n",
       "      <td>7.826984</td>\n",
       "    </tr>\n",
       "    <tr>\n",
       "      <th>15</th>\n",
       "      <td>661848</td>\n",
       "      <td>1.450000e+08</td>\n",
       "      <td>1241824.0</td>\n",
       "      <td>0</td>\n",
       "      <td>14.7</td>\n",
       "      <td>311.590203</td>\n",
       "      <td>23.7</td>\n",
       "      <td>8.221092</td>\n",
       "    </tr>\n",
       "    <tr>\n",
       "      <th>16</th>\n",
       "      <td>1494939</td>\n",
       "      <td>5.740000e+08</td>\n",
       "      <td>665683.0</td>\n",
       "      <td>26</td>\n",
       "      <td>16.0</td>\n",
       "      <td>132.838471</td>\n",
       "      <td>18.0</td>\n",
       "      <td>8.646060</td>\n",
       "    </tr>\n",
       "    <tr>\n",
       "      <th>17</th>\n",
       "      <td>6461843</td>\n",
       "      <td>2.400000e+08</td>\n",
       "      <td>323295.0</td>\n",
       "      <td>17</td>\n",
       "      <td>16.3</td>\n",
       "      <td>202.166587</td>\n",
       "      <td>78.8</td>\n",
       "      <td>8.215941</td>\n",
       "    </tr>\n",
       "    <tr>\n",
       "      <th>18</th>\n",
       "      <td>901956</td>\n",
       "      <td>9.330000e+08</td>\n",
       "      <td>1280582.0</td>\n",
       "      <td>32</td>\n",
       "      <td>16.0</td>\n",
       "      <td>223.750972</td>\n",
       "      <td>20.3</td>\n",
       "      <td>7.617305</td>\n",
       "    </tr>\n",
       "    <tr>\n",
       "      <th>21</th>\n",
       "      <td>7597008</td>\n",
       "      <td>4.000000e+08</td>\n",
       "      <td>2392791.0</td>\n",
       "      <td>49</td>\n",
       "      <td>15.8</td>\n",
       "      <td>130.654947</td>\n",
       "      <td>47.6</td>\n",
       "      <td>7.920290</td>\n",
       "    </tr>\n",
       "    <tr>\n",
       "      <th>22</th>\n",
       "      <td>3294147</td>\n",
       "      <td>6.650000e+08</td>\n",
       "      <td>795158.0</td>\n",
       "      <td>45</td>\n",
       "      <td>2.7</td>\n",
       "      <td>263.796777</td>\n",
       "      <td>16.2</td>\n",
       "      <td>7.520494</td>\n",
       "    </tr>\n",
       "    <tr>\n",
       "      <th>23</th>\n",
       "      <td>660089</td>\n",
       "      <td>2.600000e+08</td>\n",
       "      <td>1827659.0</td>\n",
       "      <td>7</td>\n",
       "      <td>17.1</td>\n",
       "      <td>120.049717</td>\n",
       "      <td>4.2</td>\n",
       "      <td>8.019859</td>\n",
       "    </tr>\n",
       "    <tr>\n",
       "      <th>25</th>\n",
       "      <td>7757860</td>\n",
       "      <td>5.030000e+08</td>\n",
       "      <td>2001734.0</td>\n",
       "      <td>47</td>\n",
       "      <td>15.9</td>\n",
       "      <td>212.295364</td>\n",
       "      <td>55.7</td>\n",
       "      <td>8.308562</td>\n",
       "    </tr>\n",
       "    <tr>\n",
       "      <th>27</th>\n",
       "      <td>3503361</td>\n",
       "      <td>8.010000e+08</td>\n",
       "      <td>1048801.0</td>\n",
       "      <td>25</td>\n",
       "      <td>1.1</td>\n",
       "      <td>88.972147</td>\n",
       "      <td>25.5</td>\n",
       "      <td>8.458615</td>\n",
       "    </tr>\n",
       "    <tr>\n",
       "      <th>29</th>\n",
       "      <td>1409067</td>\n",
       "      <td>1.105000e+09</td>\n",
       "      <td>644429.0</td>\n",
       "      <td>55</td>\n",
       "      <td>16.6</td>\n",
       "      <td>188.592668</td>\n",
       "      <td>5.8</td>\n",
       "      <td>9.027948</td>\n",
       "    </tr>\n",
       "    <tr>\n",
       "      <th>32</th>\n",
       "      <td>7836527</td>\n",
       "      <td>4.880000e+08</td>\n",
       "      <td>3098366.0</td>\n",
       "      <td>37</td>\n",
       "      <td>1.1</td>\n",
       "      <td>248.958836</td>\n",
       "      <td>71.3</td>\n",
       "      <td>8.180256</td>\n",
       "    </tr>\n",
       "    <tr>\n",
       "      <th>36</th>\n",
       "      <td>6850367</td>\n",
       "      <td>6.230000e+08</td>\n",
       "      <td>1542276.0</td>\n",
       "      <td>29</td>\n",
       "      <td>16.7</td>\n",
       "      <td>121.874704</td>\n",
       "      <td>47.6</td>\n",
       "      <td>8.139602</td>\n",
       "    </tr>\n",
       "    <tr>\n",
       "      <th>37</th>\n",
       "      <td>7178324</td>\n",
       "      <td>9.680000e+08</td>\n",
       "      <td>414357.0</td>\n",
       "      <td>14</td>\n",
       "      <td>15.9</td>\n",
       "      <td>252.386522</td>\n",
       "      <td>82.1</td>\n",
       "      <td>7.993144</td>\n",
       "    </tr>\n",
       "    <tr>\n",
       "      <th>39</th>\n",
       "      <td>992085</td>\n",
       "      <td>3.130000e+08</td>\n",
       "      <td>1479609.0</td>\n",
       "      <td>20</td>\n",
       "      <td>15.7</td>\n",
       "      <td>178.074269</td>\n",
       "      <td>5.2</td>\n",
       "      <td>8.863133</td>\n",
       "    </tr>\n",
       "    <tr>\n",
       "      <th>41</th>\n",
       "      <td>3876596</td>\n",
       "      <td>9.730000e+08</td>\n",
       "      <td>901927.0</td>\n",
       "      <td>7</td>\n",
       "      <td>3.3</td>\n",
       "      <td>215.608585</td>\n",
       "      <td>0.0</td>\n",
       "      <td>8.642419</td>\n",
       "    </tr>\n",
       "    <tr>\n",
       "      <th>42</th>\n",
       "      <td>7832980</td>\n",
       "      <td>1.799000e+09</td>\n",
       "      <td>353363.0</td>\n",
       "      <td>14</td>\n",
       "      <td>16.0</td>\n",
       "      <td>251.828787</td>\n",
       "      <td>72.9</td>\n",
       "      <td>8.700907</td>\n",
       "    </tr>\n",
       "    <tr>\n",
       "      <th>43</th>\n",
       "      <td>7047010</td>\n",
       "      <td>1.030000e+08</td>\n",
       "      <td>383579.0</td>\n",
       "      <td>22</td>\n",
       "      <td>14.7</td>\n",
       "      <td>236.707273</td>\n",
       "      <td>75.1</td>\n",
       "      <td>8.659403</td>\n",
       "    </tr>\n",
       "    <tr>\n",
       "      <th>44</th>\n",
       "      <td>8763522</td>\n",
       "      <td>7.940000e+08</td>\n",
       "      <td>902864.0</td>\n",
       "      <td>15</td>\n",
       "      <td>15.0</td>\n",
       "      <td>21.277878</td>\n",
       "      <td>56.6</td>\n",
       "      <td>3.330574</td>\n",
       "    </tr>\n",
       "    <tr>\n",
       "      <th>45</th>\n",
       "      <td>4036032</td>\n",
       "      <td>5.080000e+08</td>\n",
       "      <td>2750512.0</td>\n",
       "      <td>27</td>\n",
       "      <td>2.5</td>\n",
       "      <td>224.352073</td>\n",
       "      <td>25.6</td>\n",
       "      <td>9.117037</td>\n",
       "    </tr>\n",
       "    <tr>\n",
       "      <th>46</th>\n",
       "      <td>796967</td>\n",
       "      <td>8.300000e+07</td>\n",
       "      <td>311671.0</td>\n",
       "      <td>18</td>\n",
       "      <td>15.2</td>\n",
       "      <td>164.501227</td>\n",
       "      <td>15.1</td>\n",
       "      <td>8.579127</td>\n",
       "    </tr>\n",
       "    <tr>\n",
       "      <th>...</th>\n",
       "      <td>...</td>\n",
       "      <td>...</td>\n",
       "      <td>...</td>\n",
       "      <td>...</td>\n",
       "      <td>...</td>\n",
       "      <td>...</td>\n",
       "      <td>...</td>\n",
       "      <td>...</td>\n",
       "    </tr>\n",
       "    <tr>\n",
       "      <th>23099</th>\n",
       "      <td>7394639</td>\n",
       "      <td>5.180000e+08</td>\n",
       "      <td>1196106.0</td>\n",
       "      <td>0</td>\n",
       "      <td>15.7</td>\n",
       "      <td>238.335900</td>\n",
       "      <td>90.6</td>\n",
       "      <td>7.493668</td>\n",
       "    </tr>\n",
       "    <tr>\n",
       "      <th>23101</th>\n",
       "      <td>8352534</td>\n",
       "      <td>4.170000e+08</td>\n",
       "      <td>2222343.0</td>\n",
       "      <td>17</td>\n",
       "      <td>17.5</td>\n",
       "      <td>234.748400</td>\n",
       "      <td>85.1</td>\n",
       "      <td>8.045938</td>\n",
       "    </tr>\n",
       "    <tr>\n",
       "      <th>23107</th>\n",
       "      <td>2869043</td>\n",
       "      <td>6.320000e+08</td>\n",
       "      <td>1242962.0</td>\n",
       "      <td>21</td>\n",
       "      <td>1.5</td>\n",
       "      <td>197.464900</td>\n",
       "      <td>6.2</td>\n",
       "      <td>8.109598</td>\n",
       "    </tr>\n",
       "    <tr>\n",
       "      <th>23108</th>\n",
       "      <td>6790461</td>\n",
       "      <td>1.660000e+08</td>\n",
       "      <td>3131288.0</td>\n",
       "      <td>24</td>\n",
       "      <td>16.7</td>\n",
       "      <td>18.915930</td>\n",
       "      <td>64.8</td>\n",
       "      <td>2.655891</td>\n",
       "    </tr>\n",
       "    <tr>\n",
       "      <th>23110</th>\n",
       "      <td>2897519</td>\n",
       "      <td>7.070000e+08</td>\n",
       "      <td>718474.0</td>\n",
       "      <td>45</td>\n",
       "      <td>0.4</td>\n",
       "      <td>188.990200</td>\n",
       "      <td>19.9</td>\n",
       "      <td>8.335357</td>\n",
       "    </tr>\n",
       "    <tr>\n",
       "      <th>23111</th>\n",
       "      <td>826570</td>\n",
       "      <td>1.900000e+08</td>\n",
       "      <td>1986325.0</td>\n",
       "      <td>35</td>\n",
       "      <td>16.0</td>\n",
       "      <td>211.773200</td>\n",
       "      <td>5.9</td>\n",
       "      <td>8.411922</td>\n",
       "    </tr>\n",
       "    <tr>\n",
       "      <th>23112</th>\n",
       "      <td>6435620</td>\n",
       "      <td>1.324000e+09</td>\n",
       "      <td>1443734.0</td>\n",
       "      <td>7</td>\n",
       "      <td>2.3</td>\n",
       "      <td>30.322250</td>\n",
       "      <td>61.9</td>\n",
       "      <td>3.092596</td>\n",
       "    </tr>\n",
       "    <tr>\n",
       "      <th>23113</th>\n",
       "      <td>8287662</td>\n",
       "      <td>8.060000e+08</td>\n",
       "      <td>630352.0</td>\n",
       "      <td>27</td>\n",
       "      <td>14.6</td>\n",
       "      <td>110.126300</td>\n",
       "      <td>104.9</td>\n",
       "      <td>8.337101</td>\n",
       "    </tr>\n",
       "    <tr>\n",
       "      <th>23114</th>\n",
       "      <td>4059267</td>\n",
       "      <td>7.350000e+08</td>\n",
       "      <td>1726130.0</td>\n",
       "      <td>9</td>\n",
       "      <td>3.0</td>\n",
       "      <td>235.957800</td>\n",
       "      <td>19.1</td>\n",
       "      <td>8.412230</td>\n",
       "    </tr>\n",
       "    <tr>\n",
       "      <th>23115</th>\n",
       "      <td>3313975</td>\n",
       "      <td>3.150000e+08</td>\n",
       "      <td>392106.0</td>\n",
       "      <td>12</td>\n",
       "      <td>1.0</td>\n",
       "      <td>195.625600</td>\n",
       "      <td>2.0</td>\n",
       "      <td>8.821141</td>\n",
       "    </tr>\n",
       "    <tr>\n",
       "      <th>23117</th>\n",
       "      <td>837812</td>\n",
       "      <td>1.770000e+08</td>\n",
       "      <td>1284183.0</td>\n",
       "      <td>5</td>\n",
       "      <td>16.7</td>\n",
       "      <td>167.538900</td>\n",
       "      <td>16.8</td>\n",
       "      <td>8.759315</td>\n",
       "    </tr>\n",
       "    <tr>\n",
       "      <th>23119</th>\n",
       "      <td>1961294</td>\n",
       "      <td>4.560000e+08</td>\n",
       "      <td>2196508.0</td>\n",
       "      <td>35</td>\n",
       "      <td>15.6</td>\n",
       "      <td>276.530100</td>\n",
       "      <td>9.5</td>\n",
       "      <td>7.774550</td>\n",
       "    </tr>\n",
       "    <tr>\n",
       "      <th>23123</th>\n",
       "      <td>7152480</td>\n",
       "      <td>4.690000e+08</td>\n",
       "      <td>1780983.0</td>\n",
       "      <td>18</td>\n",
       "      <td>16.3</td>\n",
       "      <td>197.916000</td>\n",
       "      <td>61.9</td>\n",
       "      <td>8.213172</td>\n",
       "    </tr>\n",
       "    <tr>\n",
       "      <th>23124</th>\n",
       "      <td>7207557</td>\n",
       "      <td>8.300000e+07</td>\n",
       "      <td>1588752.0</td>\n",
       "      <td>10</td>\n",
       "      <td>0.6</td>\n",
       "      <td>228.378800</td>\n",
       "      <td>69.4</td>\n",
       "      <td>8.144150</td>\n",
       "    </tr>\n",
       "    <tr>\n",
       "      <th>23126</th>\n",
       "      <td>7693579</td>\n",
       "      <td>3.870000e+08</td>\n",
       "      <td>331694.0</td>\n",
       "      <td>25</td>\n",
       "      <td>15.1</td>\n",
       "      <td>230.561700</td>\n",
       "      <td>91.8</td>\n",
       "      <td>8.379348</td>\n",
       "    </tr>\n",
       "    <tr>\n",
       "      <th>23127</th>\n",
       "      <td>672224</td>\n",
       "      <td>8.200000e+07</td>\n",
       "      <td>991964.0</td>\n",
       "      <td>12</td>\n",
       "      <td>17.0</td>\n",
       "      <td>251.252400</td>\n",
       "      <td>17.1</td>\n",
       "      <td>8.329838</td>\n",
       "    </tr>\n",
       "    <tr>\n",
       "      <th>23131</th>\n",
       "      <td>6763179</td>\n",
       "      <td>1.549000e+09</td>\n",
       "      <td>1074711.0</td>\n",
       "      <td>10</td>\n",
       "      <td>16.1</td>\n",
       "      <td>209.479500</td>\n",
       "      <td>70.0</td>\n",
       "      <td>8.596276</td>\n",
       "    </tr>\n",
       "    <tr>\n",
       "      <th>23133</th>\n",
       "      <td>8057022</td>\n",
       "      <td>1.796000e+09</td>\n",
       "      <td>1703029.0</td>\n",
       "      <td>30</td>\n",
       "      <td>16.2</td>\n",
       "      <td>254.109500</td>\n",
       "      <td>62.1</td>\n",
       "      <td>8.532075</td>\n",
       "    </tr>\n",
       "    <tr>\n",
       "      <th>23134</th>\n",
       "      <td>8051166</td>\n",
       "      <td>1.690000e+08</td>\n",
       "      <td>1198456.0</td>\n",
       "      <td>15</td>\n",
       "      <td>1.2</td>\n",
       "      <td>241.661100</td>\n",
       "      <td>91.6</td>\n",
       "      <td>8.398221</td>\n",
       "    </tr>\n",
       "    <tr>\n",
       "      <th>23135</th>\n",
       "      <td>6530454</td>\n",
       "      <td>2.620000e+08</td>\n",
       "      <td>3096611.0</td>\n",
       "      <td>26</td>\n",
       "      <td>3.3</td>\n",
       "      <td>172.154000</td>\n",
       "      <td>52.6</td>\n",
       "      <td>7.778537</td>\n",
       "    </tr>\n",
       "    <tr>\n",
       "      <th>23137</th>\n",
       "      <td>7939024</td>\n",
       "      <td>9.000000e+08</td>\n",
       "      <td>535506.0</td>\n",
       "      <td>0</td>\n",
       "      <td>16.0</td>\n",
       "      <td>209.965600</td>\n",
       "      <td>93.8</td>\n",
       "      <td>8.716063</td>\n",
       "    </tr>\n",
       "    <tr>\n",
       "      <th>23138</th>\n",
       "      <td>1361856</td>\n",
       "      <td>5.300000e+08</td>\n",
       "      <td>1408954.0</td>\n",
       "      <td>37</td>\n",
       "      <td>16.6</td>\n",
       "      <td>5.487242</td>\n",
       "      <td>6.1</td>\n",
       "      <td>3.028736</td>\n",
       "    </tr>\n",
       "    <tr>\n",
       "      <th>23140</th>\n",
       "      <td>8228561</td>\n",
       "      <td>7.730000e+08</td>\n",
       "      <td>1178242.0</td>\n",
       "      <td>19</td>\n",
       "      <td>16.2</td>\n",
       "      <td>231.280000</td>\n",
       "      <td>65.2</td>\n",
       "      <td>8.366117</td>\n",
       "    </tr>\n",
       "    <tr>\n",
       "      <th>23142</th>\n",
       "      <td>3025125</td>\n",
       "      <td>3.800000e+08</td>\n",
       "      <td>313013.0</td>\n",
       "      <td>7</td>\n",
       "      <td>1.1</td>\n",
       "      <td>278.809000</td>\n",
       "      <td>20.7</td>\n",
       "      <td>8.393918</td>\n",
       "    </tr>\n",
       "    <tr>\n",
       "      <th>23143</th>\n",
       "      <td>7252107</td>\n",
       "      <td>1.558000e+09</td>\n",
       "      <td>2432110.0</td>\n",
       "      <td>27</td>\n",
       "      <td>4.0</td>\n",
       "      <td>155.577000</td>\n",
       "      <td>79.4</td>\n",
       "      <td>8.401253</td>\n",
       "    </tr>\n",
       "    <tr>\n",
       "      <th>23145</th>\n",
       "      <td>6891205</td>\n",
       "      <td>4.620000e+08</td>\n",
       "      <td>376963.0</td>\n",
       "      <td>42</td>\n",
       "      <td>17.4</td>\n",
       "      <td>266.344600</td>\n",
       "      <td>68.4</td>\n",
       "      <td>8.039179</td>\n",
       "    </tr>\n",
       "    <tr>\n",
       "      <th>23149</th>\n",
       "      <td>534323</td>\n",
       "      <td>1.270000e+08</td>\n",
       "      <td>3144722.0</td>\n",
       "      <td>2</td>\n",
       "      <td>15.1</td>\n",
       "      <td>0.000000</td>\n",
       "      <td>16.8</td>\n",
       "      <td>3.331059</td>\n",
       "    </tr>\n",
       "    <tr>\n",
       "      <th>23151</th>\n",
       "      <td>2879014</td>\n",
       "      <td>3.290000e+08</td>\n",
       "      <td>1518581.0</td>\n",
       "      <td>22</td>\n",
       "      <td>2.1</td>\n",
       "      <td>176.444400</td>\n",
       "      <td>10.9</td>\n",
       "      <td>7.973555</td>\n",
       "    </tr>\n",
       "    <tr>\n",
       "      <th>23153</th>\n",
       "      <td>473169</td>\n",
       "      <td>9.900000e+07</td>\n",
       "      <td>1128088.0</td>\n",
       "      <td>28</td>\n",
       "      <td>14.9</td>\n",
       "      <td>153.900600</td>\n",
       "      <td>18.6</td>\n",
       "      <td>8.359296</td>\n",
       "    </tr>\n",
       "    <tr>\n",
       "      <th>23155</th>\n",
       "      <td>7523054</td>\n",
       "      <td>4.460000e+08</td>\n",
       "      <td>296138.0</td>\n",
       "      <td>6</td>\n",
       "      <td>17.8</td>\n",
       "      <td>290.730900</td>\n",
       "      <td>58.9</td>\n",
       "      <td>8.510907</td>\n",
       "    </tr>\n",
       "  </tbody>\n",
       "</table>\n",
       "<p>11664 rows × 8 columns</p>\n",
       "</div>"
      ],
      "text/plain": [
       "       INGRESOS          CASA  PRECIO_DISPOSITIVO  MESES  DURACION  \\\n",
       "2        795993  9.500000e+07            452809.0     38      16.8   \n",
       "3       8115015  8.300000e+07           2617184.0     37      17.6   \n",
       "4       8187499  6.770000e+08            666069.0     19       0.0   \n",
       "6       7256758  7.120000e+08           3493707.0     20      14.8   \n",
       "7       3262245  6.840000e+08            985708.0     32       1.3   \n",
       "9        874177  7.250000e+08           1403586.0     19      17.8   \n",
       "10      4061667  9.340000e+08            438256.0      9       1.8   \n",
       "11      3529836  7.240000e+08            647659.0     18       4.3   \n",
       "12      3829846  8.770000e+08           1150132.0     40       5.4   \n",
       "13      7639749  3.170000e+08            825889.0     27       0.7   \n",
       "15       661848  1.450000e+08           1241824.0      0      14.7   \n",
       "16      1494939  5.740000e+08            665683.0     26      16.0   \n",
       "17      6461843  2.400000e+08            323295.0     17      16.3   \n",
       "18       901956  9.330000e+08           1280582.0     32      16.0   \n",
       "21      7597008  4.000000e+08           2392791.0     49      15.8   \n",
       "22      3294147  6.650000e+08            795158.0     45       2.7   \n",
       "23       660089  2.600000e+08           1827659.0      7      17.1   \n",
       "25      7757860  5.030000e+08           2001734.0     47      15.9   \n",
       "27      3503361  8.010000e+08           1048801.0     25       1.1   \n",
       "29      1409067  1.105000e+09            644429.0     55      16.6   \n",
       "32      7836527  4.880000e+08           3098366.0     37       1.1   \n",
       "36      6850367  6.230000e+08           1542276.0     29      16.7   \n",
       "37      7178324  9.680000e+08            414357.0     14      15.9   \n",
       "39       992085  3.130000e+08           1479609.0     20      15.7   \n",
       "41      3876596  9.730000e+08            901927.0      7       3.3   \n",
       "42      7832980  1.799000e+09            353363.0     14      16.0   \n",
       "43      7047010  1.030000e+08            383579.0     22      14.7   \n",
       "44      8763522  7.940000e+08            902864.0     15      15.0   \n",
       "45      4036032  5.080000e+08           2750512.0     27       2.5   \n",
       "46       796967  8.300000e+07            311671.0     18      15.2   \n",
       "...         ...           ...                 ...    ...       ...   \n",
       "23099   7394639  5.180000e+08           1196106.0      0      15.7   \n",
       "23101   8352534  4.170000e+08           2222343.0     17      17.5   \n",
       "23107   2869043  6.320000e+08           1242962.0     21       1.5   \n",
       "23108   6790461  1.660000e+08           3131288.0     24      16.7   \n",
       "23110   2897519  7.070000e+08            718474.0     45       0.4   \n",
       "23111    826570  1.900000e+08           1986325.0     35      16.0   \n",
       "23112   6435620  1.324000e+09           1443734.0      7       2.3   \n",
       "23113   8287662  8.060000e+08            630352.0     27      14.6   \n",
       "23114   4059267  7.350000e+08           1726130.0      9       3.0   \n",
       "23115   3313975  3.150000e+08            392106.0     12       1.0   \n",
       "23117    837812  1.770000e+08           1284183.0      5      16.7   \n",
       "23119   1961294  4.560000e+08           2196508.0     35      15.6   \n",
       "23123   7152480  4.690000e+08           1780983.0     18      16.3   \n",
       "23124   7207557  8.300000e+07           1588752.0     10       0.6   \n",
       "23126   7693579  3.870000e+08            331694.0     25      15.1   \n",
       "23127    672224  8.200000e+07            991964.0     12      17.0   \n",
       "23131   6763179  1.549000e+09           1074711.0     10      16.1   \n",
       "23133   8057022  1.796000e+09           1703029.0     30      16.2   \n",
       "23134   8051166  1.690000e+08           1198456.0     15       1.2   \n",
       "23135   6530454  2.620000e+08           3096611.0     26       3.3   \n",
       "23137   7939024  9.000000e+08            535506.0      0      16.0   \n",
       "23138   1361856  5.300000e+08           1408954.0     37      16.6   \n",
       "23140   8228561  7.730000e+08           1178242.0     19      16.2   \n",
       "23142   3025125  3.800000e+08            313013.0      7       1.1   \n",
       "23143   7252107  1.558000e+09           2432110.0     27       4.0   \n",
       "23145   6891205  4.620000e+08            376963.0     42      17.4   \n",
       "23149    534323  1.270000e+08           3144722.0      2      15.1   \n",
       "23151   2879014  3.290000e+08           1518581.0     22       2.1   \n",
       "23153    473169  9.900000e+07           1128088.0     28      14.9   \n",
       "23155   7523054  4.460000e+08            296138.0      6      17.8   \n",
       "\n",
       "       SOBRECARGO  SALDO_RESTANTE  SATISFACCION  \n",
       "2      350.610224            13.9      8.359438  \n",
       "3      230.913888            45.7      8.964017  \n",
       "4      131.541983            67.2      8.808206  \n",
       "6      217.322554            69.5      8.285137  \n",
       "7      275.595131            19.0      8.040629  \n",
       "9        0.000000            19.9      2.138861  \n",
       "10       0.000000             4.9      2.164890  \n",
       "11     303.162095            29.6      7.984475  \n",
       "12     150.868408            33.2      7.855744  \n",
       "13     178.247186            89.5      7.826984  \n",
       "15     311.590203            23.7      8.221092  \n",
       "16     132.838471            18.0      8.646060  \n",
       "17     202.166587            78.8      8.215941  \n",
       "18     223.750972            20.3      7.617305  \n",
       "21     130.654947            47.6      7.920290  \n",
       "22     263.796777            16.2      7.520494  \n",
       "23     120.049717             4.2      8.019859  \n",
       "25     212.295364            55.7      8.308562  \n",
       "27      88.972147            25.5      8.458615  \n",
       "29     188.592668             5.8      9.027948  \n",
       "32     248.958836            71.3      8.180256  \n",
       "36     121.874704            47.6      8.139602  \n",
       "37     252.386522            82.1      7.993144  \n",
       "39     178.074269             5.2      8.863133  \n",
       "41     215.608585             0.0      8.642419  \n",
       "42     251.828787            72.9      8.700907  \n",
       "43     236.707273            75.1      8.659403  \n",
       "44      21.277878            56.6      3.330574  \n",
       "45     224.352073            25.6      9.117037  \n",
       "46     164.501227            15.1      8.579127  \n",
       "...           ...             ...           ...  \n",
       "23099  238.335900            90.6      7.493668  \n",
       "23101  234.748400            85.1      8.045938  \n",
       "23107  197.464900             6.2      8.109598  \n",
       "23108   18.915930            64.8      2.655891  \n",
       "23110  188.990200            19.9      8.335357  \n",
       "23111  211.773200             5.9      8.411922  \n",
       "23112   30.322250            61.9      3.092596  \n",
       "23113  110.126300           104.9      8.337101  \n",
       "23114  235.957800            19.1      8.412230  \n",
       "23115  195.625600             2.0      8.821141  \n",
       "23117  167.538900            16.8      8.759315  \n",
       "23119  276.530100             9.5      7.774550  \n",
       "23123  197.916000            61.9      8.213172  \n",
       "23124  228.378800            69.4      8.144150  \n",
       "23126  230.561700            91.8      8.379348  \n",
       "23127  251.252400            17.1      8.329838  \n",
       "23131  209.479500            70.0      8.596276  \n",
       "23133  254.109500            62.1      8.532075  \n",
       "23134  241.661100            91.6      8.398221  \n",
       "23135  172.154000            52.6      7.778537  \n",
       "23137  209.965600            93.8      8.716063  \n",
       "23138    5.487242             6.1      3.028736  \n",
       "23140  231.280000            65.2      8.366117  \n",
       "23142  278.809000            20.7      8.393918  \n",
       "23143  155.577000            79.4      8.401253  \n",
       "23145  266.344600            68.4      8.039179  \n",
       "23149    0.000000            16.8      3.331059  \n",
       "23151  176.444400            10.9      7.973555  \n",
       "23153  153.900600            18.6      8.359296  \n",
       "23155  290.730900            58.9      8.510907  \n",
       "\n",
       "[11664 rows x 8 columns]"
      ]
     },
     "execution_count": 17,
     "metadata": {},
     "output_type": "execute_result"
    }
   ],
   "source": [
    "df_ret = df[df['ESTADO'] == 'RETIRADO']\n",
    "df_ret = df_ret.drop('ESTADO', axis=1)\n",
    "df_ret"
   ]
  },
  {
   "cell_type": "markdown",
   "metadata": {},
   "source": [
    "Veamos cómo se ven los datos extraídos, sin normalizar ni separar en cluster, para hacernos una mejor idea sobre las decisiones a tomar. Para eso, primero se extraerán los componentes principales."
   ]
  },
  {
   "cell_type": "code",
   "execution_count": 18,
   "metadata": {},
   "outputs": [],
   "source": [
    "pca = PCA()\n",
    "df_proyectado = pca.fit_transform(df_ret)"
   ]
  },
  {
   "cell_type": "markdown",
   "metadata": {},
   "source": [
    "Veamos la varianza explicada por cada componente resultante:"
   ]
  },
  {
   "cell_type": "code",
   "execution_count": 19,
   "metadata": {},
   "outputs": [
    {
     "data": {
      "text/plain": [
       "array([9.99969953e-01, 2.76564087e-05, 2.39066729e-06, 2.59868168e-14,\n",
       "       1.16411041e-15, 8.74808600e-16, 1.79879271e-16, 6.64807088e-18])"
      ]
     },
     "execution_count": 19,
     "metadata": {},
     "output_type": "execute_result"
    }
   ],
   "source": [
    "var_exp=pca.explained_variance_ratio_ # varianza explicada por cada PC\n",
    "cum_var_exp = np.cumsum(var_exp) # varianza acumulada por los primeros n PCs\n",
    "var_exp"
   ]
  },
  {
   "cell_type": "code",
   "execution_count": 20,
   "metadata": {},
   "outputs": [
    {
     "data": {
      "image/png": "[encoded data removed]",
      "text/plain": [
       "<Figure size 1080x504 with 1 Axes>"
      ]
     },
     "metadata": {
      "needs_background": "light"
     },
     "output_type": "display_data"
    }
   ],
   "source": [
    "plt.figure(figsize=(15, 7))\n",
    "plt.bar(range(len(var_exp)), var_exp, alpha=0.3333, align='center', label='Varianza explicada por cada PC', color = 'g')\n",
    "plt.step(range(len(cum_var_exp)), cum_var_exp, where='mid',label='Varianza explicada acumulada')\n",
    "plt.ylabel('Porcentaje de varianza explicada')\n",
    "plt.xlabel('Componentes principales')\n",
    "plt.legend(loc='best')\n",
    "plt.show()"
   ]
  },
  {
   "cell_type": "markdown",
   "metadata": {},
   "source": [
    "El primer componente explica prácticamente el 100% de la varianza, lo que es un problema y definitivamente es necesario normalizar:"
   ]
  },
  {
   "cell_type": "code",
   "execution_count": 21,
   "metadata": {},
   "outputs": [
    {
     "name": "stderr",
     "output_type": "stream",
     "text": [
      "C:\\Users\\asus\\Anaconda3\\lib\\site-packages\\sklearn\\preprocessing\\data.py:645: DataConversionWarning: Data with input dtype int64, float64 were all converted to float64 by StandardScaler.\n",
      "  return self.partial_fit(X, y)\n",
      "C:\\Users\\asus\\Anaconda3\\lib\\site-packages\\sklearn\\base.py:464: DataConversionWarning: Data with input dtype int64, float64 were all converted to float64 by StandardScaler.\n",
      "  return self.fit(X, **fit_params).transform(X)\n"
     ]
    }
   ],
   "source": [
    "scaler = StandardScaler(with_mean=True, with_std=True)\n",
    "df_ret_std = scaler.fit_transform(df_ret)"
   ]
  },
  {
   "cell_type": "code",
   "execution_count": 22,
   "metadata": {},
   "outputs": [],
   "source": [
    "pca = PCA()\n",
    "df_ret_proyectado = pca.fit_transform(df_ret_std)"
   ]
  },
  {
   "cell_type": "code",
   "execution_count": 23,
   "metadata": {},
   "outputs": [
    {
     "data": {
      "text/plain": [
       "array([0.26062227, 0.21028733, 0.12918762, 0.12482655, 0.12300728,\n",
       "       0.09615756, 0.03964466, 0.01626675])"
      ]
     },
     "execution_count": 23,
     "metadata": {},
     "output_type": "execute_result"
    }
   ],
   "source": [
    "pca.explained_variance_ratio_"
   ]
  },
  {
   "cell_type": "code",
   "execution_count": 24,
   "metadata": {},
   "outputs": [
    {
     "data": {
      "text/plain": [
       "array([0.26062227, 0.21028733, 0.12918762, 0.12482655, 0.12300728,\n",
       "       0.09615756, 0.03964466, 0.01626675])"
      ]
     },
     "execution_count": 24,
     "metadata": {},
     "output_type": "execute_result"
    }
   ],
   "source": [
    "var_exp=pca.explained_variance_ratio_ # varianza explicada por cada PC\n",
    "cum_var_exp = np.cumsum(var_exp) # varianza acumulada por los primeros n PCs\n",
    "var_exp"
   ]
  },
  {
   "cell_type": "code",
   "execution_count": 25,
   "metadata": {},
   "outputs": [
    {
     "data": {
      "text/plain": [
       "array([[ 0.64830847,  0.41902514, -0.01646323, -0.01368638, -0.08647797,\n",
       "         0.0364006 ,  0.62666998,  0.04622768],\n",
       "       [ 0.04107945,  0.01210829, -0.02439065, -0.02805672, -0.01769301,\n",
       "        -0.70591027,  0.03870106, -0.70474368],\n",
       "       [-0.02934276,  0.00374945,  0.53858041,  0.22167522,  0.79601857,\n",
       "        -0.01547408,  0.15941796, -0.02484137]])"
      ]
     },
     "execution_count": 25,
     "metadata": {},
     "output_type": "execute_result"
    }
   ],
   "source": [
    "pca.components_[0:3]"
   ]
  },
  {
   "cell_type": "markdown",
   "metadata": {},
   "source": [
    "El primer componente principal está determinado principalmente por la primera, segunda y septima columna, que corresponden a las variables \"Ingresos\", \"Casa\" y \"Saldo restante\"."
   ]
  },
  {
   "cell_type": "markdown",
   "metadata": {},
   "source": [
    "El segundo componente principal está determinado principalmente por la sexta y octava columna, que corresponden a las variables \"Sobrecargo\" y \"Satisfacción\"."
   ]
  },
  {
   "cell_type": "markdown",
   "metadata": {},
   "source": [
    "El primer componente principal está determinado principalmente por la tercera y quinta columna, que corresponden a las variables \"Precio dispositivo\" y \"Duración\"."
   ]
  },
  {
   "cell_type": "code",
   "execution_count": 26,
   "metadata": {},
   "outputs": [
    {
     "data": {
      "image/png": "[encoded data removed]",
      "text/plain": [
       "<Figure size 1080x504 with 1 Axes>"
      ]
     },
     "metadata": {
      "needs_background": "light"
     },
     "output_type": "display_data"
    }
   ],
   "source": [
    "plt.figure(figsize=(15, 7))\n",
    "plt.bar(range(len(var_exp)), var_exp, alpha=0.3333, align='center', label='Varianza explicada por cada PC', color = 'g')\n",
    "plt.step(range(len(cum_var_exp)), cum_var_exp, where='mid',label='Varianza explicada acumulada')\n",
    "plt.ylabel('Porcentaje de varianza explicada')\n",
    "plt.xlabel('Componentes principales')\n",
    "plt.legend(loc='best')\n",
    "plt.show()"
   ]
  },
  {
   "cell_type": "markdown",
   "metadata": {},
   "source": [
    "Vemos que con los datos estandarizados los componentes son mucho más razonables. Entre los dos primeros componentes se explica casi el 50% de la varianza, mientras que si le agregamos el tercero se llega al 60%"
   ]
  },
  {
   "cell_type": "code",
   "execution_count": null,
   "metadata": {},
   "outputs": [],
   "source": []
  }
 ],
 "metadata": {
  "kernelspec": {
   "display_name": "Python 3",
   "language": "python",
   "name": "python3"
  },
  "language_info": {
   "codemirror_mode": {
    "name": "ipython",
    "version": 3
   },
   "file_extension": ".py",
   "mimetype": "text/x-python",
   "name": "python",
   "nbconvert_exporter": "python",
   "pygments_lexer": "ipython3",
   "version": "3.7.3"
  }
 },
 "nbformat": 4,
 "nbformat_minor": 2
}
